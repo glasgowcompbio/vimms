{
 "cells": [
  {
   "cell_type": "markdown",
   "id": "e66e131f",
   "metadata": {},
   "source": [
    "# 0. Preliminaries"
   ]
  },
  {
   "cell_type": "code",
   "execution_count": 1,
   "id": "106eb11b",
   "metadata": {},
   "outputs": [],
   "source": [
    "%matplotlib inline\n",
    "%load_ext autoreload\n",
    "%autoreload 2"
   ]
  },
  {
   "cell_type": "code",
   "execution_count": 2,
   "id": "f7e06846",
   "metadata": {},
   "outputs": [],
   "source": [
    "import sys\n",
    "import os\n",
    "import platform\n",
    "import re"
   ]
  },
  {
   "cell_type": "code",
   "execution_count": 3,
   "id": "df21542a",
   "metadata": {},
   "outputs": [],
   "source": [
    "user_vimms = os.path.join(\"C:\\\\\", \"Users\", \"mcbrider5002\", \"Desktop\", \"Workspace\", \"phd\", \"peak_picking\", \"vimms\")\n",
    "#user_vimms = \"vimms\"\n",
    "sys.path.append(user_vimms)\n",
    "\n",
    "old_mzmine = False\n",
    "template_suffix = \"_old\" if old_mzmine else \"\"\n",
    "mzmine_template = os.path.join(user_vimms, \"batch_files\", f\"multi_sample_peak_pick{template_suffix}.xml\")\n",
    "\n",
    "xcms_r_script = os.path.join(user_vimms, \"vimms\", \"scripts\", \"xcms_script.R\")\n",
    "dsda_path = os.path.join(user_vimms, \"vimms\", \"scripts\", \"dsda_script.R\")"
   ]
  },
  {
   "cell_type": "code",
   "execution_count": 4,
   "id": "b5015370",
   "metadata": {},
   "outputs": [],
   "source": [
    "mzmine_path = os.path.join(\"C:\\\\\", \"Users\", \"mcbrider5002\", \"Desktop\", \"Workspace\", \"phd\", \"peak_picking\", \"MZmine-2.53-Windows\", \"startMZmine-Windows.bat\")"
   ]
  },
  {
   "cell_type": "code",
   "execution_count": 5,
   "id": "aa1cdf14",
   "metadata": {},
   "outputs": [
    {
     "name": "stderr",
     "output_type": "stream",
     "text": [
      " C:\\Users\\mcbrider5002\\anaconda3\\lib\\site-packages\\psims\\mzmlb\\writer.py:33: UserWarning:hdf5plugin is missing! Only the slower GZIP compression scheme will be available! Please install hdf5plugin to be able to use Blosc.\n"
     ]
    }
   ],
   "source": [
    "from vimms.Common import (\n",
    "    POSITIVE, ROI_TYPE_SMART, ROI_EXCLUSION_WEIGHTED_DEW,\n",
    "    set_log_level_warning,\n",
    ")\n",
    "\n",
    "from vimms.Roi import RoiBuilderParams, SmartRoiParams\n",
    "from vimms.Experiment import ExperimentCase, Experiment\n",
    "from vimms.Controller import TopNController\n",
    "from vimms.PeakPicking import MZMineParams, XCMSScriptParams\n",
    "from vimms.Matching import MatchingScan, Matching\n",
    "from vimms.Controller.misc import TaskFilter"
   ]
  },
  {
   "cell_type": "code",
   "execution_count": 6,
   "id": "12e7bd53",
   "metadata": {},
   "outputs": [
    {
     "data": {
      "text/plain": [
       "1"
      ]
     },
     "execution_count": 6,
     "metadata": {},
     "output_type": "execute_result"
    }
   ],
   "source": [
    "ionisation_mode = POSITIVE\n",
    "pbar = False\n",
    "set_log_level_warning()"
   ]
  },
  {
   "cell_type": "markdown",
   "id": "5f6270a4",
   "metadata": {},
   "source": [
    "### Get seed data"
   ]
  },
  {
   "cell_type": "code",
   "execution_count": 7,
   "id": "858c3043",
   "metadata": {},
   "outputs": [],
   "source": [
    "def match_files(data_dir, regex):\n",
    "    pattern = re.compile(regex)\n",
    "    files = (\n",
    "        (int(pattern.match(fname).group(1)), fname)\n",
    "        for fname in os.listdir(data_dir)\n",
    "        if not pattern.match(fname) is None\n",
    "    )\n",
    "\n",
    "    return [\n",
    "        os.path.join(data_dir, fname) \n",
    "        for _, fname in sorted(files, key=lambda p: p[0])\n",
    "    ]"
   ]
  },
  {
   "cell_type": "code",
   "execution_count": 8,
   "id": "e642b775",
   "metadata": {},
   "outputs": [],
   "source": [
    "data_dir = os.path.join(\"C:\\\\\", \"Users\", \"mcbrider5002\", \"Desktop\", \"Workspace\", \"phd\", \"data\", \"CLMS\", \"new_matching_seeds\", \"Negative\")\n",
    "\n",
    "all_fullscans = match_files(data_dir, r\"Vinny_Beers_[0-9]_[0-9]+_ID([0-9]+).mzML\")\n",
    "same_beer_fullscans = all_fullscans[:12]\n",
    "rep_diff_beer_fullscans = all_fullscans[12:]\n",
    "id_offset = len(same_beer_fullscans)"
   ]
  },
  {
   "cell_type": "markdown",
   "id": "9bec82ae",
   "metadata": {},
   "source": [
    "### Specify parameters"
   ]
  },
  {
   "cell_type": "code",
   "execution_count": 9,
   "id": "f0bdd7d5",
   "metadata": {},
   "outputs": [],
   "source": [
    "num_workers = 8 #can't always use number of physical cores because of memory constraints"
   ]
  },
  {
   "cell_type": "code",
   "execution_count": 10,
   "id": "f3222276",
   "metadata": {},
   "outputs": [],
   "source": [
    "#intensity params\n",
    "experiment_params = {\n",
    "    \"topN_params\": {\n",
    "        \"ionisation_mode\" : ionisation_mode,\n",
    "        \"N\" : 20,\n",
    "        \"isolation_width\" : 1,\n",
    "        \"min_ms1_intensity\" : 5000,\n",
    "        \"mz_tol\" : 10,\n",
    "        \"rt_tol\" : 60\n",
    "    },\n",
    "    \n",
    "    \"roi_params\" : {\n",
    "        \"min_roi_length_for_fragmentation\" : 0,\n",
    "        \"roi_params\" : RoiBuilderParams(\n",
    "                            min_roi_intensity=0,\n",
    "                            min_roi_length=3,\n",
    "                       )\n",
    "    },\n",
    "    \n",
    "    \"non_overlap_params\": {\n",
    "    },\n",
    "    \n",
    "    \"smartroi_params\": {\n",
    "        \"rt_tol\" : 15,\n",
    "        \"smartroi_params\" : SmartRoiParams(\n",
    "                                reset_length_seconds=1E6,\n",
    "                                intensity_increase_factor=3,\n",
    "                                drop_perc=0.001\n",
    "                            )  \n",
    "    },\n",
    "    \n",
    "    \"weighteddew_params\": {\n",
    "        \"rt_tol\": 60,\n",
    "        \"exclusion_method\": ROI_EXCLUSION_WEIGHTED_DEW,\n",
    "        \"exclusion_t_0\": 1\n",
    "    }    \n",
    "}\n",
    "\n",
    "min_rt = 0\n",
    "max_rt = 1440\n",
    "scan_duration_dict = {\n",
    "    1: 0.59,\n",
    "    2: 0.19\n",
    "}\n",
    "point_noise_threshold = 0"
   ]
  },
  {
   "cell_type": "code",
   "execution_count": 11,
   "id": "5ecc293c",
   "metadata": {},
   "outputs": [],
   "source": [
    "centwave_params = {\n",
    "    \"ppm\" : 15,\n",
    "    \"pwlower\" : 15,\n",
    "    \"pwupper\" : 80,\n",
    "    \"snthresh\" : 5,\n",
    "    \"noise\" : 1000,\n",
    "    \"prefilterlower\" : 3,\n",
    "    \"prefilterupper\" : 500,\n",
    "    \"mzdiff\" : 0.001\n",
    "}\n",
    "\n",
    "mzmine_object = MZMineParams(\n",
    "    mzmine_template = mzmine_template,\n",
    "    mzmine_exe = mzmine_path\n",
    ")\n",
    "\n",
    "xcms_object = XCMSScriptParams(\n",
    "    xcms_r_script = xcms_r_script,\n",
    "    **centwave_params,\n",
    "    mzvsrtbalance = None,\n",
    "    absmz = None,\n",
    "    absrt = None,\n",
    "    kNN = None\n",
    ")\n",
    "\n",
    "#pp_params = mzmine_object\n",
    "pp_params = xcms_object"
   ]
  },
  {
   "cell_type": "code",
   "execution_count": 12,
   "id": "731e0c90",
   "metadata": {},
   "outputs": [],
   "source": [
    "dsda_params = {\n",
    "    \"dsda_loc\" : dsda_path, \n",
    "    \"base_controller\" : TopNController(**{**experiment_params[\"topN_params\"], \"N\" : 10}),\n",
    "    \"min_rt\" : min_rt,\n",
    "    \"max_rt\" : max_rt, \n",
    "    \"scan_duration_dict\" : scan_duration_dict,\n",
    "    \"port\" : 7011,\n",
    "    \"rscript_loc\" : \"RScript\",\n",
    "    \"dsda_params\" : {\n",
    "        **centwave_params,\n",
    "        \"maxdepth\" : 3\n",
    "    }\n",
    "}"
   ]
  },
  {
   "cell_type": "code",
   "execution_count": 13,
   "id": "41867451",
   "metadata": {},
   "outputs": [],
   "source": [
    "task_filter = TaskFilter(\n",
    "    ms1_length = 0.59, \n",
    "    ms2_length = 0.19, \n",
    "    skip_margin=0.5, \n",
    "    add_margin=1.2\n",
    ")\n",
    "\n",
    "matching_params = {\n",
    "    \"aligned_reader\" : pp_params,\n",
    "    \"ionisation_mode\" : ionisation_mode,\n",
    "    \"isolation_width\" : experiment_params[\"topN_params\"][\"isolation_width\"],\n",
    "    \"intensity_threshold\" : experiment_params[\"topN_params\"][\"min_ms1_intensity\"],\n",
    "}\n",
    "\n",
    "matching_params_with_resync = {\n",
    "    **matching_params,\n",
    "    \"task_filter\" : task_filter\n",
    "}"
   ]
  },
  {
   "cell_type": "markdown",
   "id": "e1a326f2",
   "metadata": {},
   "source": [
    "### Specify controllers to run"
   ]
  },
  {
   "cell_type": "code",
   "execution_count": 14,
   "id": "7b690612",
   "metadata": {},
   "outputs": [],
   "source": [
    "topN_params = experiment_params[\"topN_params\"]\n",
    "roi_params = {**topN_params, **experiment_params[\"roi_params\"]}\n",
    "non_overlap_params = {**roi_params, **experiment_params[\"non_overlap_params\"]}\n",
    "\n",
    "cases = [\n",
    "    (\"topN\", topN_params),\n",
    "    (\"dsda\", dsda_params),\n",
    "    #(\"topN_RoI\", roi_params),\n",
    "    (\"topN_exclusion\", topN_params),\n",
    "    #(\"topNEx\", non_overlap_params),\n",
    "    #(\"hard_roi_exclusion\", non_overlap_params),\n",
    "    #(\"intensity_roi_exclusion\", non_overlap_params),\n",
    "    #(\"non_overlap\", non_overlap_params),\n",
    "    (\"intensity_non_overlap\", non_overlap_params)\n",
    "]\n",
    "\n",
    "no_smartroi = [\"topN\", \"topN_RoI\", \"topN_exclusion\", \"dsda\"]\n",
    "#run_smartroi = []\n",
    "run_smartroi = [name for name, _ in cases if not name in no_smartroi]\n",
    "#run_weighteddew = []\n",
    "run_weighteddew = [name for name, _ in cases if not name in no_smartroi]"
   ]
  },
  {
   "cell_type": "code",
   "execution_count": 15,
   "id": "e77c71ef",
   "metadata": {},
   "outputs": [],
   "source": [
    "new_cases = []\n",
    "for controller_type, params in cases:\n",
    "    new_cases.append(\n",
    "        (controller_type, controller_type, params)\n",
    "    )\n",
    "    \n",
    "    if(controller_type in run_smartroi):\n",
    "        new_name = controller_type + \"_smartroi\"\n",
    "        new_params = {**params, **experiment_params[\"smartroi_params\"]}\n",
    "        new_cases.append(\n",
    "            (controller_type, new_name, new_params)\n",
    "        )\n",
    "        \n",
    "    if(controller_type in run_weighteddew):\n",
    "        new_name = controller_type + \"_weighteddew\"\n",
    "        new_params = {**params, **experiment_params[\"weighteddew_params\"]}\n",
    "        new_cases.append(\n",
    "            (controller_type, new_name, new_params)\n",
    "        )\n",
    "        \n",
    "cases = new_cases\n",
    "cases.append((\"dsda\", \"dsda_resynced\", {**dsda_params, \"port\" : dsda_params[\"port\"] + 1, \"task_filter\" : task_filter}))"
   ]
  },
  {
   "cell_type": "markdown",
   "id": "d1d9031e",
   "metadata": {},
   "source": [
    "# 1. Same Beer Repeated Multiple Times"
   ]
  },
  {
   "cell_type": "code",
   "execution_count": 16,
   "id": "147e9e9e",
   "metadata": {},
   "outputs": [
    {
     "name": "stdout",
     "output_type": "stream",
     "text": [
      "Running XCMS for new_same_beer\\stefanbeersID1_xcms_aligned.csv\n",
      "5979 aligned boxes contained in file\n",
      "\n",
      "NAME: topN\n",
      "CONTROLLER TYPE: topN\n",
      "PARAMS: {'ionisation_mode': 'Positive', 'N': 20, 'isolation_width': 1, 'min_ms1_intensity': 5000, 'mz_tol': 10, 'rt_tol': 60}\n",
      "\n",
      "NAME: dsda\n",
      "CONTROLLER TYPE: dsda\n",
      "PARAMS: {'dsda_loc': 'C:\\\\Users\\\\mcbrider5002\\\\Desktop\\\\Workspace\\\\phd\\\\peak_picking\\\\vimms\\\\vimms\\\\scripts\\\\dsda_script.R', 'base_controller': <class 'vimms.Controller.topN.TopNController'>(advanced_params=<vimms.Controller.base.AdvancedParams object at 0x000001A6AF4F9180>,scans=defaultdict(<class 'list'>, {}),scan_to_process=None,environment=None,next_processed_scan_id=100000,initial_scan_id=100000,current_task_id=100000,processing_times=[],last_ms1_rt=0.0,ionisation_mode=Positive,N=10,isolation_width=1,mz_tol=10,rt_tol=60,min_ms1_intensity=5000,ms1_shift=0,force_N=False,exclusion=<vimms.Exclusion.TopNExclusion object at 0x000001A6AF4F8B80>,deisotope=False,charge_range=(2, 3),min_fit_score=80,penalty_factor=1.5,use_quick_charge=False), 'min_rt': 0, 'max_rt': 1440, 'scan_duration_dict': {1: 0.59, 2: 0.19}, 'port': 7011, 'rscript_loc': 'RScript', 'dsda_params': {'ppm': 15, 'pwlower': 15, 'pwupper': 80, 'snthresh': 5, 'noise': 1000, 'prefilterlower': 3, 'prefilterupper': 500, 'mzdiff': 0.001, 'maxdepth': 3}}\n",
      "\n",
      "NAME: topN_exclusion\n",
      "CONTROLLER TYPE: topN_exclusion\n",
      "PARAMS: {'ionisation_mode': 'Positive', 'N': 20, 'isolation_width': 1, 'min_ms1_intensity': 5000, 'mz_tol': 10, 'rt_tol': 60}\n",
      "\n",
      "NAME: intensity_non_overlap\n",
      "CONTROLLER TYPE: intensity_non_overlap\n",
      "PARAMS: {'ionisation_mode': 'Positive', 'N': 20, 'isolation_width': 1, 'min_ms1_intensity': 5000, 'mz_tol': 10, 'rt_tol': 60, 'min_roi_length_for_fragmentation': 0, 'roi_params': {'mz_tol': 10, 'min_roi_length': 3, 'min_roi_intensity': 0, 'at_least_one_point_above': 0, 'start_rt': 0, 'stop_rt': 100000.0, 'max_gaps_allowed': 0}}\n",
      "\n",
      "NAME: intensity_non_overlap_smartroi\n",
      "CONTROLLER TYPE: intensity_non_overlap\n",
      "PARAMS: {'ionisation_mode': 'Positive', 'N': 20, 'isolation_width': 1, 'min_ms1_intensity': 5000, 'mz_tol': 10, 'rt_tol': 15, 'min_roi_length_for_fragmentation': 0, 'roi_params': {'mz_tol': 10, 'min_roi_length': 3, 'min_roi_intensity': 0, 'at_least_one_point_above': 0, 'start_rt': 0, 'stop_rt': 100000.0, 'max_gaps_allowed': 0}, 'smartroi_params': {'initial_length_seconds': 5, 'reset_length_seconds': 1000000.0, 'intensity_increase_factor': 3, 'drop_perc': 0.001, 'dew': 15}}\n",
      "\n",
      "NAME: intensity_non_overlap_weighteddew\n",
      "CONTROLLER TYPE: intensity_non_overlap\n",
      "PARAMS: {'ionisation_mode': 'Positive', 'N': 20, 'isolation_width': 1, 'min_ms1_intensity': 5000, 'mz_tol': 10, 'rt_tol': 60, 'min_roi_length_for_fragmentation': 0, 'roi_params': {'mz_tol': 10, 'min_roi_length': 3, 'min_roi_intensity': 0, 'at_least_one_point_above': 0, 'start_rt': 0, 'stop_rt': 100000.0, 'max_gaps_allowed': 0}, 'exclusion_method': 'exclusion_weighted_dew', 'exclusion_t_0': 1}\n",
      "\n",
      "NAME: dsda_resynced\n",
      "CONTROLLER TYPE: dsda\n",
      "PARAMS: {'dsda_loc': 'C:\\\\Users\\\\mcbrider5002\\\\Desktop\\\\Workspace\\\\phd\\\\peak_picking\\\\vimms\\\\vimms\\\\scripts\\\\dsda_script.R', 'base_controller': <class 'vimms.Controller.topN.TopNController'>(advanced_params=<vimms.Controller.base.AdvancedParams object at 0x000001A6AF4F9180>,scans=defaultdict(<class 'list'>, {}),scan_to_process=None,environment=None,next_processed_scan_id=100000,initial_scan_id=100000,current_task_id=100000,processing_times=[],last_ms1_rt=0.0,ionisation_mode=Positive,N=10,isolation_width=1,mz_tol=10,rt_tol=60,min_ms1_intensity=5000,ms1_shift=0,force_N=False,exclusion=<vimms.Exclusion.TopNExclusion object at 0x000001A6AF4F8B80>,deisotope=False,charge_range=(2, 3),min_fit_score=80,penalty_factor=1.5,use_quick_charge=False), 'min_rt': 0, 'max_rt': 1440, 'scan_duration_dict': {1: 0.59, 2: 0.19}, 'port': 7012, 'rscript_loc': 'RScript', 'dsda_params': {'ppm': 15, 'pwlower': 15, 'pwupper': 80, 'snthresh': 5, 'noise': 1000, 'prefilterlower': 3, 'prefilterupper': 500, 'mzdiff': 0.001, 'maxdepth': 3}, 'task_filter': <vimms.Controller.misc.TaskFilter object at 0x000001A6AF4FA980>}\n",
      "\n",
      "NAME: two_step_matching\n",
      "CONTROLLER TYPE: matching\n",
      "\n",
      "NAME: two_step_matching_with_recursive_assignment\n",
      "CONTROLLER TYPE: matching\n",
      "\n",
      "NAME: two_step_matching_resynced\n",
      "CONTROLLER TYPE: matching\n",
      "\n",
      "NAME: two_step_matching_with_recursive_assignment_resynced\n",
      "CONTROLLER TYPE: matching\n",
      "\n"
     ]
    }
   ],
   "source": [
    "repeat = 4\n",
    "out_dir = \"new_same_beer\"\n",
    "fullscans = same_beer_fullscans[:1] * repeat\n",
    "aligned_file = f\"stefanbeersID1\" + template_suffix\n",
    "\n",
    "aligned_file = pp_params.pick_aligned_peaks(\n",
    "    fullscans,\n",
    "    out_dir,\n",
    "    aligned_file,\n",
    "    force=True\n",
    ")\n",
    "print()\n",
    "\n",
    "times_list = [\n",
    "    list(MatchingScan.topN_times(N, max_rt, scan_duration_dict))\n",
    "    #for N in [20, 10, 5, 3, 2, 1] #+ [1] * 14\n",
    "    for N in [20] * repeat\n",
    "]\n",
    "\n",
    "same_cases = cases + [\n",
    "    (\"matching\", \"two_step_matching\", {\n",
    "                                            **matching_params, \n",
    "                                            \"aligned_file\" : aligned_file,\n",
    "                                            \"times_list\" : times_list,\n",
    "                                            \"weighted\" : Matching.TWOSTEP,\n",
    "                                            \"full_assignment_strategy\" : 0\n",
    "                                      }\n",
    "    ),\n",
    "    \n",
    "    (\"matching\", \"two_step_matching_with_recursive_assignment\", {\n",
    "                                            **matching_params, \n",
    "                                            \"aligned_file\" : aligned_file,\n",
    "                                            \"times_list\" : times_list,\n",
    "                                            \"weighted\" : Matching.TWOSTEP,\n",
    "                                            \"full_assignment_strategy\" : 1\n",
    "                                      }\n",
    "    ),\n",
    "    \n",
    "    (\"matching\", \"two_step_matching_resynced\", {\n",
    "                                            **matching_params_with_resync, \n",
    "                                            \"aligned_file\" : aligned_file,\n",
    "                                            \"times_list\" : times_list,\n",
    "                                            \"weighted\" : Matching.TWOSTEP,\n",
    "                                            \"full_assignment_strategy\" : 0\n",
    "                                      }\n",
    "    ),\n",
    "    \n",
    "    (\"matching\", \"two_step_matching_with_recursive_assignment_resynced\", {\n",
    "                                            **matching_params_with_resync, \n",
    "                                            \"aligned_file\" : aligned_file,\n",
    "                                            \"times_list\" : times_list,\n",
    "                                            \"weighted\" : Matching.TWOSTEP,\n",
    "                                            \"full_assignment_strategy\" : 1\n",
    "                                      }\n",
    "    )\n",
    "]\n",
    "\n",
    "for controller_type, name, params in same_cases:\n",
    "    print(f\"NAME: {name}\")\n",
    "    print(f\"CONTROLLER TYPE: {controller_type}\")\n",
    "    if(not \"matching\" in name): print(f\"PARAMS: {params}\")\n",
    "    print()"
   ]
  },
  {
   "cell_type": "code",
   "execution_count": 17,
   "id": "de0ff04e",
   "metadata": {},
   "outputs": [
    {
     "name": "stdout",
     "output_type": "stream",
     "text": [
      "{1: 0.295, 2: 0.095}\n",
      "Creating Chemicals...\n",
      "\n",
      "Running Experiment of 11 cases...\n",
      "{1: 0.354, 2: 0.11399999999999999}\n",
      "Creating Chemicals...\n",
      "\n",
      "Running Experiment of 11 cases...\n",
      "{1: 0.413, 2: 0.13299999999999998}\n",
      "Creating Chemicals...\n",
      "\n",
      "Running Experiment of 11 cases...\n",
      "{1: 0.472, 2: 0.15200000000000002}\n",
      "Creating Chemicals...\n",
      "\n",
      "Running Experiment of 11 cases...\n",
      "{1: 0.531, 2: 0.171}\n",
      "Creating Chemicals...\n",
      "\n",
      "Running Experiment of 11 cases...\n",
      "{1: 0.59, 2: 0.19}\n",
      "Creating Chemicals...\n",
      "\n",
      "Running Experiment of 11 cases...\n",
      "{1: 0.649, 2: 0.20900000000000002}\n",
      "Creating Chemicals...\n",
      "\n",
      "Running Experiment of 11 cases...\n",
      "{1: 0.708, 2: 0.22799999999999998}\n",
      "Creating Chemicals...\n",
      "\n",
      "Running Experiment of 11 cases...\n",
      "{1: 0.767, 2: 0.24700000000000003}\n",
      "Creating Chemicals...\n",
      "\n",
      "Running Experiment of 11 cases...\n",
      "{1: 0.826, 2: 0.26599999999999996}\n",
      "Creating Chemicals...\n",
      "\n",
      "Running Experiment of 11 cases...\n",
      "{1: 0.885, 2: 0.28500000000000003}\n",
      "Creating Chemicals...\n",
      "\n",
      "Running Experiment of 11 cases...\n"
     ]
    }
   ],
   "source": [
    "for desync_factor in [1 + i / 10 for i in range(-5, 6)]:\n",
    "    new_times = {level: time * desync_factor for level, time in scan_duration_dict.items()}\n",
    "    print(new_times)\n",
    "    \n",
    "    same_beer_exp = Experiment()\n",
    "    same_beer_exp.add_cases(\n",
    "        ExperimentCase(controller_type, fullscans, params, name=name, pickle_env=False)\n",
    "        for controller_type, name, params in same_cases\n",
    "    )\n",
    "    same_beer_exp.run_experiment(\n",
    "        out_dir + f\"_desync{int(100 * desync_factor)}\",\n",
    "        min_rt=min_rt,\n",
    "        max_rt=max_rt,\n",
    "        ionisation_mode=ionisation_mode,\n",
    "        scan_duration_dict=new_times,\n",
    "        overwrite_keyfile=False,\n",
    "        point_noise_threshold=point_noise_threshold,\n",
    "        chem_noise_threshold=experiment_params[\"topN_params\"][\"min_ms1_intensity\"] * 0.5, #filter low intensity signal for memory\n",
    "        num_workers=num_workers\n",
    "    )"
   ]
  },
  {
   "cell_type": "code",
   "execution_count": 18,
   "id": "fab03db4",
   "metadata": {},
   "outputs": [
    {
     "name": "stdout",
     "output_type": "stream",
     "text": [
      "Matching is None\n",
      "matching\n",
      "Size of matching for two_step_matching: 4740\n",
      "Matching is None\n",
      "matching\n",
      "Size of matching for two_step_matching_with_recursive_assignment: 4740\n"
     ]
    }
   ],
   "source": [
    "for case_name in [\"two_step_matching\", \"two_step_matching_with_recursive_assignment\"]:\n",
    "    i = same_beer_exp.case_names.index(case_name)\n",
    "    case = same_beer_exp.cases[i]\n",
    "    if(case.shared.shared is None): print(\"Matching is None\") #shouldn't be\n",
    "    case.shared.init_shareable(\n",
    "        {**matching_params, \"aligned_file\" : aligned_file, \"times_list\" : times_list, \"weighted\" : Matching.UNWEIGHTED},\n",
    "        \"\",\n",
    "        fullscans\n",
    "    )\n",
    "    matching = case.shared.shared\n",
    "    print(case.shared.name)\n",
    "    print(f\"Size of matching for {case_name}: {len(matching)}\") # 1897"
   ]
  },
  {
   "cell_type": "code",
   "execution_count": null,
   "id": "7a929e95",
   "metadata": {},
   "outputs": [],
   "source": []
  }
 ],
 "metadata": {
  "kernelspec": {
   "display_name": "Python 3 (ipykernel)",
   "language": "python",
   "name": "python3"
  },
  "language_info": {
   "codemirror_mode": {
    "name": "ipython",
    "version": 3
   },
   "file_extension": ".py",
   "mimetype": "text/x-python",
   "name": "python",
   "nbconvert_exporter": "python",
   "pygments_lexer": "ipython3",
   "version": "3.10.13"
  }
 },
 "nbformat": 4,
 "nbformat_minor": 5
}
