{
 "cells": [
  {
   "cell_type": "code",
   "execution_count": 1,
   "id": "45786e41-47f3-40fe-b3a6-02655ebd8cba",
   "metadata": {},
   "outputs": [],
   "source": [
    "# MZMine peak-picking can be slow and by \"default\" we tend to repeat it,\n",
    "# so this notebook runs it the minimum times necessary"
   ]
  },
  {
   "cell_type": "code",
   "execution_count": 2,
   "id": "4193f81f-737e-42d6-93f6-9ac0feb1de48",
   "metadata": {},
   "outputs": [],
   "source": [
    "import sys\n",
    "import os\n",
    "import shutil\n",
    "import platform\n",
    "import re"
   ]
  },
  {
   "cell_type": "code",
   "execution_count": 3,
   "id": "487d1a67-1d91-48db-9f89-1e2b88cda984",
   "metadata": {},
   "outputs": [],
   "source": [
    "user_vimms = os.path.join(\"C:\\\\\", \"Users\", \"mcbrider5002\", \"Desktop\", \"Workspace\", \"phd\", \"peak_picking\", \"vimms\")\n",
    "#user_vimms = \"vimms\"\n",
    "sys.path.append(user_vimms)\n",
    "\n",
    "old_mzmine = False\n",
    "template_suffix = \"_old\" if old_mzmine else \"\"\n",
    "mzmine_template = os.path.join(user_vimms, \"batch_files\", f\"multi_sample_peak_pick{template_suffix}.xml\")\n",
    "\n",
    "xcms_r_script = os.path.join(user_vimms, \"vimms\", \"scripts\", \"xcms_script.R\")"
   ]
  },
  {
   "cell_type": "code",
   "execution_count": 4,
   "id": "bc68dee7-a381-4e51-b0dd-e0198752c04d",
   "metadata": {},
   "outputs": [],
   "source": [
    "mzmine_path = os.path.join(\"C:\\\\\", \"Users\", \"mcbrider5002\", \"Desktop\", \"Workspace\", \"phd\", \"peak_picking\", \"MZmine-2.53-Windows\", \"startMZmine-Windows.bat\")"
   ]
  },
  {
   "cell_type": "code",
   "execution_count": 5,
   "id": "88342ad0-e837-4dfb-b3f5-509e612d2fca",
   "metadata": {},
   "outputs": [],
   "source": [
    "from vimms.PeakPicking import MZMineParams, XCMSScriptParams"
   ]
  },
  {
   "cell_type": "markdown",
   "id": "f6023859-a7b8-4629-8387-3a8a142a9b0e",
   "metadata": {},
   "source": [
    "### Get seed data"
   ]
  },
  {
   "cell_type": "code",
   "execution_count": 6,
   "id": "384091d8-5ac6-4a84-adb6-d1c564765924",
   "metadata": {},
   "outputs": [],
   "source": [
    "def match_files(data_dir, regex):\n",
    "    pattern = re.compile(regex)\n",
    "    files = (\n",
    "        (int(pattern.match(fname).group(1)), fname)\n",
    "        for fname in os.listdir(data_dir)\n",
    "        if not pattern.match(fname) is None\n",
    "    )\n",
    "\n",
    "    return [\n",
    "        os.path.join(data_dir, fname) \n",
    "        for _, fname in sorted(files, key=lambda p: p[0])\n",
    "    ]"
   ]
  },
  {
   "cell_type": "code",
   "execution_count": 7,
   "id": "7a84e7de-6eee-479e-9a13-3856dfeb657b",
   "metadata": {},
   "outputs": [],
   "source": [
    "data_dir = os.path.join(\"C:\\\\\", \"Users\", \"mcbrider5002\", \"Desktop\", \"Workspace\", \"phd\", \"data\", \"CLMS\", \"new_matching_seeds\", \"Negative\")\n",
    "\n",
    "all_fullscans = match_files(data_dir, r\"Vinny_Beers_[0-9]_[0-9]+_ID([0-9]+).mzML\")\n",
    "same_beer_fullscans = all_fullscans[:12]\n",
    "rep_diff_beer_fullscans = all_fullscans[12:]"
   ]
  },
  {
   "cell_type": "markdown",
   "id": "64032fb7-857a-440e-80c1-b028e6787ec8",
   "metadata": {},
   "source": [
    "### Peak-Pick"
   ]
  },
  {
   "cell_type": "code",
   "execution_count": 8,
   "id": "ec0236a7-ab01-47bc-a018-81686c67c281",
   "metadata": {},
   "outputs": [],
   "source": [
    "centwave_params = {\n",
    "    \"ppm\" : 15,\n",
    "    \"pwlower\" : 15,\n",
    "    \"pwupper\" : 80,\n",
    "    \"snthresh\" : 5,\n",
    "    \"noise\" : 1000,\n",
    "    \"prefilterlower\" : 3,\n",
    "    \"prefilterupper\" : 500,\n",
    "    \"mzdiff\" : 0.001\n",
    "}\n",
    "\n",
    "mzmine_object = MZMineParams(\n",
    "    mzmine_template = mzmine_template,\n",
    "    mzmine_exe = mzmine_path\n",
    ")\n",
    "\n",
    "xcms_object = XCMSScriptParams(\n",
    "    xcms_r_script = xcms_r_script,\n",
    "    **centwave_params,\n",
    "    mzvsrtbalance = None,\n",
    "    absmz = None,\n",
    "    absrt = None,\n",
    "    kNN = None\n",
    ")\n",
    "\n",
    "#pp_params = mzmine_object\n",
    "pp_params = xcms_object"
   ]
  },
  {
   "cell_type": "code",
   "execution_count": 9,
   "id": "42467e86-72f0-4943-9fb3-1ce06f379882",
   "metadata": {},
   "outputs": [],
   "source": [
    "def peak_pick_master(master_dir, bio_repeat, tech_repeat):\n",
    "    aligned_file_name = f\"multibeers_{bio_repeat}_{tech_repeat}\" + template_suffix\n",
    "    \n",
    "    for i, fs_dir in enumerate(multibeer_fullscan_dirs):\n",
    "        fullscans = fs_dir[:bio_repeat] * tech_repeat\n",
    "        \n",
    "        aligned_file = pp_params.pick_aligned_peaks(\n",
    "            fullscans,\n",
    "            os.path.join(master_dir, str(i+1)),\n",
    "            aligned_file_name,\n",
    "            force=True\n",
    "        )\n",
    "        print()\n",
    "\n",
    "def peak_pick_normal(master_dir, nor_dir, bio_repeat, tech_repeat):\n",
    "    seed = 4\n",
    "    aligned_file_name = f\"multibeers_{bio_repeat}_{tech_repeat}\" + template_suffix\n",
    "    aligned_file_src = pp_params.format_output_path(os.path.join(master_dir, str(seed)), aligned_file_name)\n",
    "    aligned_file_dst = pp_params.format_output_path(nor_dir, aligned_file_name)\n",
    "    shutil.copy(aligned_file_src, aligned_file_dst)\n",
    "\n",
    "def peak_pick_exhaustive(master_dir, exh_dir, bio_repeat, tech_repeat):\n",
    "    seed = 4\n",
    "    aligned_file_name = f\"multibeers_{bio_repeat}_{tech_repeat}\" + template_suffix\n",
    "    aligned_file_src = pp_params.format_output_path(os.path.join(master_dir, str(seed)), aligned_file_name)\n",
    "\n",
    "    for i in range(bio_repeat * tech_repeat):\n",
    "        aligned_file_dst = pp_params.format_output_path(os.path.join(exh_dir, str(i+1)), aligned_file_name)\n",
    "        shutil.copy(aligned_file_src, aligned_file_dst)\n",
    "    \n",
    "def peak_pick_replicates(master_dir, rep_dir, bio_repeat, tech_repeat):\n",
    "    aligned_file_name = f\"multibeers_{bio_repeat}_{tech_repeat}\" + template_suffix\n",
    "\n",
    "    for i, _ in enumerate(multibeer_fullscan_dirs):\n",
    "        aligned_file_src = pp_params.format_output_path(os.path.join(master_dir, str(i+1)), aligned_file_name)\n",
    "\n",
    "        shutil.copy(\n",
    "            aligned_file_src,\n",
    "            pp_params.format_output_path(os.path.join(rep_dir, str(i+1)), aligned_file_name)\n",
    "        )\n",
    "\n",
    "        for j, _ in enumerate(multibeer_fullscan_dirs):\n",
    "            aligned_file_dst = pp_params.format_output_path(os.path.join(rep_dir, f\"{j+1}_{i+1}\"), aligned_file_name)\n",
    "            shutil.copy(aligned_file_src, aligned_file_dst)"
   ]
  },
  {
   "cell_type": "code",
   "execution_count": 10,
   "id": "ddd44af3-b4e3-49ac-958e-8636d235442a",
   "metadata": {},
   "outputs": [],
   "source": [
    "master_dir = \"peak_picking_master\""
   ]
  },
  {
   "cell_type": "markdown",
   "id": "44163558-5b04-408d-90d3-9b58166d0b52",
   "metadata": {},
   "source": [
    "### 1. Same Beers"
   ]
  },
  {
   "cell_type": "code",
   "execution_count": 11,
   "id": "6cf2b935-047b-4127-a892-20e94f851f4f",
   "metadata": {},
   "outputs": [],
   "source": [
    "repeat = 6"
   ]
  },
  {
   "cell_type": "code",
   "execution_count": 12,
   "id": "54ecbdb6-57a2-4835-a8de-85a250b39e04",
   "metadata": {},
   "outputs": [
    {
     "name": "stdout",
     "output_type": "stream",
     "text": [
      "Running MZMine for peak_picking_master\\stefanbeersID7_mzmine_aligned.csv\n",
      "1800 aligned boxes contained in file\n",
      "Running MZMine for peak_picking_master\\stefanbeersID1-6_mzmine_aligned.csv\n",
      "3499 aligned boxes contained in file\n",
      "Running MZMine for peak_picking_master\\stefanbeersID7-12_mzmine_aligned.csv\n",
      "3139 aligned boxes contained in file\n",
      "Running MZMine for peak_picking_master\\stefanbeersID1-12_mzmine_aligned.csv\n",
      "4261 aligned boxes contained in file\n"
     ]
    }
   ],
   "source": [
    "aligned_file = pp_params.pick_aligned_peaks(\n",
    "    same_beer_fullscans[repeat:repeat+1],\n",
    "    master_dir,\n",
    "    f\"stefanbeersID{repeat+1}\" + template_suffix,\n",
    "    force=True\n",
    ")\n",
    "\n",
    "aligned_file = pp_params.pick_aligned_peaks(\n",
    "    same_beer_fullscans[:repeat],\n",
    "    master_dir,\n",
    "    f\"stefanbeersID1-{repeat}\" + template_suffix,\n",
    "    force=True\n",
    ")\n",
    "\n",
    "aligned_file = pp_params.pick_aligned_peaks(\n",
    "    same_beer_fullscans[repeat:2*repeat],\n",
    "    master_dir,\n",
    "    f\"stefanbeersID{repeat+1}-{2*repeat}\" + template_suffix,\n",
    "    force=True\n",
    ")\n",
    "\n",
    "aligned_file = pp_params.pick_aligned_peaks(\n",
    "    same_beer_fullscans[:2*repeat],\n",
    "    master_dir,\n",
    "    f\"stefanbeersID1-{2*repeat}\" + template_suffix,\n",
    "    force=True\n",
    ")"
   ]
  },
  {
   "cell_type": "code",
   "execution_count": 13,
   "id": "42218b05-94f2-4c51-a051-6a93ef3dc9a6",
   "metadata": {},
   "outputs": [],
   "source": [
    "to_copy = [\n",
    "    (f\"stefanbeersID{repeat+1}\", \"same_beer\"),\n",
    "    (f\"stefanbeersID{repeat+1}-{2*repeat}\", \"same_iterbeer\"),\n",
    "    (f\"stefanbeersID1-{repeat}\", \"same_iterswapbeer\"),\n",
    "    (f\"stefanbeersID{repeat+1}-{2*repeat}\", \"same_iterswapbeer\"),\n",
    "    (f\"stefanbeersID1-{2*repeat}\", \"same_iterswapbeer\")\n",
    "]\n",
    "\n",
    "for fname, dir in to_copy:\n",
    "    aligned_file_name = fname + template_suffix\n",
    "    aligned_file_src = pp_params.format_output_path(master_dir, aligned_file_name)\n",
    "    aligned_file_dst = pp_params.format_output_path(dir, aligned_file_name)\n",
    "    shutil.copy(aligned_file_src, aligned_file_dst)\n",
    "    \n",
    "    for i in range(repeat):\n",
    "        out_dir = os.path.join(dir, str(i+1))\n",
    "        aligned_file_dst = pp_params.format_output_path(out_dir, aligned_file_name)\n",
    "        shutil.copy(aligned_file_src, aligned_file_dst)"
   ]
  },
  {
   "cell_type": "markdown",
   "id": "e8cb2820-2b35-4537-a2f0-5ab54b16e840",
   "metadata": {},
   "source": [
    "### 2. Repeated Different Beers"
   ]
  },
  {
   "cell_type": "code",
   "execution_count": 14,
   "id": "215e1e37-4be5-4e6a-817a-24a7b4d84fcc",
   "metadata": {},
   "outputs": [],
   "source": [
    "id_offset = len(same_beer_fullscans)\n",
    "\n",
    "bio_repeat, tech_repeat = 4, 3\n",
    "\n",
    "repeat = bio_repeat * tech_repeat"
   ]
  },
  {
   "cell_type": "code",
   "execution_count": 15,
   "id": "d7399f9f-37b1-4ed0-bd30-74268e21a3d1",
   "metadata": {},
   "outputs": [
    {
     "name": "stdout",
     "output_type": "stream",
     "text": [
      "Running MZMine for peak_picking_master\\stefanbeersID13-16_mzmine_aligned.csv\n",
      "4279 aligned boxes contained in file\n",
      "Running MZMine for peak_picking_master\\stefanbeersID13-24_mzmine_aligned.csv\n",
      "6187 aligned boxes contained in file\n",
      "Running MZMine for peak_picking_master\\stefanbeersID25-36_mzmine_aligned.csv\n",
      "6083 aligned boxes contained in file\n",
      "Running MZMine for peak_picking_master\\stefanbeersID13-36_mzmine_aligned.csv\n",
      "7590 aligned boxes contained in file\n"
     ]
    }
   ],
   "source": [
    "aligned_file = pp_params.pick_aligned_peaks(\n",
    "    rep_diff_beer_fullscans[:bio_repeat],\n",
    "    master_dir,\n",
    "    f\"stefanbeersID{id_offset+1}-{id_offset+bio_repeat}\" + template_suffix,\n",
    "    force=True\n",
    ")\n",
    "\n",
    "aligned_file = pp_params.pick_aligned_peaks(\n",
    "    rep_diff_beer_fullscans[:repeat],\n",
    "    master_dir,\n",
    "    f\"stefanbeersID{id_offset+1}-{id_offset+repeat}\" + template_suffix,\n",
    "    force=True\n",
    ")\n",
    "\n",
    "aligned_file = pp_params.pick_aligned_peaks(\n",
    "    rep_diff_beer_fullscans[repeat:2*repeat],\n",
    "    master_dir,\n",
    "    f\"stefanbeersID{id_offset+repeat+1}-{id_offset+2*repeat}\" + template_suffix,\n",
    "    force=True\n",
    ")\n",
    "\n",
    "aligned_file = pp_params.pick_aligned_peaks(\n",
    "    rep_diff_beer_fullscans[:2*repeat],\n",
    "    master_dir,\n",
    "    f\"stefanbeersID{id_offset+1}-{id_offset+2*repeat}\" + template_suffix,\n",
    "    force=True\n",
    ")"
   ]
  },
  {
   "cell_type": "code",
   "execution_count": 16,
   "id": "33d4a254-d38f-4454-9f9f-242074844272",
   "metadata": {},
   "outputs": [],
   "source": [
    "to_copy = [\n",
    "    (f\"stefanbeersID{id_offset+1}-{id_offset+bio_repeat}\", \"repeated_different_beer\"),\n",
    "    (f\"stefanbeersID{id_offset+repeat+1}-{id_offset+2*repeat}\", \"repeated_different_iterbeer\"),\n",
    "    (f\"stefanbeersID{id_offset+1}-{id_offset+repeat}\", \"repeated_different_iterswapbeer\"),\n",
    "    (f\"stefanbeersID{id_offset+repeat+1}-{id_offset+2*repeat}\", \"repeated_different_iterswapbeer\"),\n",
    "    (f\"stefanbeersID{id_offset+1}-{id_offset+2*repeat}\", \"repeated_different_iterswapbeer\")\n",
    "]\n",
    "\n",
    "for fname, dir in to_copy:\n",
    "    aligned_file_name = fname + template_suffix\n",
    "    aligned_file_src = pp_params.format_output_path(master_dir, aligned_file_name)\n",
    "    aligned_file_dst = pp_params.format_output_path(dir, aligned_file_name)\n",
    "    shutil.copy(aligned_file_src, aligned_file_dst)\n",
    "    \n",
    "    for i in range(repeat):\n",
    "        out_dir = os.path.join(dir, str(i+1))\n",
    "        aligned_file_dst = pp_params.format_output_path(out_dir, aligned_file_name)\n",
    "        shutil.copy(aligned_file_src, aligned_file_dst)"
   ]
  },
  {
   "cell_type": "code",
   "execution_count": null,
   "id": "90beec6e-1435-4788-a8cb-468cb036ecba",
   "metadata": {},
   "outputs": [],
   "source": []
  }
 ],
 "metadata": {
  "kernelspec": {
   "display_name": "Python 3 (ipykernel)",
   "language": "python",
   "name": "python3"
  },
  "language_info": {
   "codemirror_mode": {
    "name": "ipython",
    "version": 3
   },
   "file_extension": ".py",
   "mimetype": "text/x-python",
   "name": "python",
   "nbconvert_exporter": "python",
   "pygments_lexer": "ipython3",
   "version": "3.10.13"
  }
 },
 "nbformat": 4,
 "nbformat_minor": 5
}
