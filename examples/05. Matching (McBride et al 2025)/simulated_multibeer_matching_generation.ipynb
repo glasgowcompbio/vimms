{
 "cells": [
  {
   "cell_type": "markdown",
   "id": "e66e131f",
   "metadata": {},
   "source": [
    "# 0. Preliminaries"
   ]
  },
  {
   "cell_type": "code",
   "execution_count": 1,
   "id": "106eb11b",
   "metadata": {},
   "outputs": [],
   "source": [
    "%matplotlib inline\n",
    "%load_ext autoreload\n",
    "%autoreload 2"
   ]
  },
  {
   "cell_type": "code",
   "execution_count": 2,
   "id": "f7e06846",
   "metadata": {},
   "outputs": [],
   "source": [
    "import sys\n",
    "import copy\n",
    "import os\n",
    "import platform\n",
    "import re"
   ]
  },
  {
   "cell_type": "code",
   "execution_count": 3,
   "id": "df21542a",
   "metadata": {},
   "outputs": [],
   "source": [
    "user_vimms = os.path.join(\"C:\\\\\", \"Users\", \"mcbrider5002\", \"Desktop\", \"Workspace\", \"phd\", \"peak_picking\", \"vimms\")\n",
    "#user_vimms = \"vimms\"\n",
    "sys.path.append(user_vimms)\n",
    "\n",
    "old_mzmine = False\n",
    "template_suffix = \"_old\" if old_mzmine else \"\"\n",
    "mzmine_template = os.path.join(user_vimms, \"batch_files\", f\"multi_sample_peak_pick{template_suffix}.xml\")\n",
    "\n",
    "xcms_r_script = os.path.join(user_vimms, \"vimms\", \"scripts\", \"xcms_script.R\")\n",
    "dsda_path = os.path.join(user_vimms, \"vimms\", \"scripts\", \"dsda_script.R\")"
   ]
  },
  {
   "cell_type": "code",
   "execution_count": 4,
   "id": "b5015370",
   "metadata": {},
   "outputs": [],
   "source": [
    "mzmine_path = os.path.join(\"C:\\\\\", \"Users\", \"mcbrider5002\", \"Desktop\", \"Workspace\", \"phd\", \"peak_picking\", \"MZmine-2.53-Windows\", \"startMZmine-Windows.bat\")"
   ]
  },
  {
   "cell_type": "code",
   "execution_count": 5,
   "id": "aa1cdf14",
   "metadata": {},
   "outputs": [
    {
     "name": "stderr",
     "output_type": "stream",
     "text": [
      " C:\\Users\\mcbrider5002\\anaconda3\\lib\\site-packages\\psims\\mzmlb\\writer.py:33: UserWarning:hdf5plugin is missing! Only the slower GZIP compression scheme will be available! Please install hdf5plugin to be able to use Blosc.\n"
     ]
    }
   ],
   "source": [
    "from vimms.Common import (\n",
    "    POSITIVE, NEGATIVE, ROI_TYPE_SMART, ROI_EXCLUSION_WEIGHTED_DEW,\n",
    "    set_log_level_warning,\n",
    ")\n",
    "\n",
    "from vimms.Roi import RoiBuilderParams, SmartRoiParams\n",
    "from vimms.Experiment import ExperimentCase, Experiment\n",
    "from vimms.Controller import TopNController\n",
    "from vimms.PeakPicking import MZMineParams, XCMSScriptParams\n",
    "from vimms.Matching import MatchingScan, Matching\n",
    "from vimms.BoxManager import BoxManager, BoxSplitter"
   ]
  },
  {
   "cell_type": "code",
   "execution_count": 6,
   "id": "12e7bd53",
   "metadata": {},
   "outputs": [
    {
     "data": {
      "text/plain": [
       "1"
      ]
     },
     "execution_count": 6,
     "metadata": {},
     "output_type": "execute_result"
    }
   ],
   "source": [
    "ionisation_mode = NEGATIVE\n",
    "pbar = False\n",
    "set_log_level_warning()"
   ]
  },
  {
   "cell_type": "markdown",
   "id": "5f6270a4",
   "metadata": {},
   "source": [
    "### Get seed data"
   ]
  },
  {
   "cell_type": "code",
   "execution_count": 7,
   "id": "858c3043",
   "metadata": {},
   "outputs": [],
   "source": [
    "def match_files(data_dir, regex):\n",
    "    pattern = re.compile(regex)\n",
    "    files = (\n",
    "        (int(pattern.match(fname).group(1)), fname)\n",
    "        for fname in os.listdir(data_dir)\n",
    "        if not pattern.match(fname) is None\n",
    "    )\n",
    "\n",
    "    return [\n",
    "        os.path.join(data_dir, fname) \n",
    "        for _, fname in sorted(files, key=lambda p: p[0])\n",
    "    ]"
   ]
  },
  {
   "cell_type": "code",
   "execution_count": 8,
   "id": "d78008e5-e542-4909-a8fd-8b789f5131be",
   "metadata": {},
   "outputs": [],
   "source": [
    "data_dir = os.path.join(\"C:\\\\\", \"Users\", \"mcbrider5002\", \"Desktop\", \"Workspace\", \"phd\", \"data\", \"CLMS\", \"new_matching_seeds\", \"Negative\")\n",
    "\n",
    "all_fullscans = match_files(data_dir, r\"Vinny_Beers_[0-9]_[0-9]+_ID([0-9]+).mzML\")\n",
    "same_beer_fullscans = all_fullscans[:12]\n",
    "rep_diff_beer_fullscans = all_fullscans[12:]\n",
    "id_offset = len(same_beer_fullscans)"
   ]
  },
  {
   "cell_type": "markdown",
   "id": "9bec82ae",
   "metadata": {},
   "source": [
    "### Specify parameters"
   ]
  },
  {
   "cell_type": "code",
   "execution_count": 9,
   "id": "f0bdd7d5",
   "metadata": {},
   "outputs": [],
   "source": [
    "num_workers = 8 #can't always use number of physical cores because of memory constraints"
   ]
  },
  {
   "cell_type": "code",
   "execution_count": 10,
   "id": "f3222276",
   "metadata": {},
   "outputs": [],
   "source": [
    "experiment_params = {\n",
    "    \"topN_params\": {\n",
    "        \"ionisation_mode\" : ionisation_mode,\n",
    "        \"N\" : 20,\n",
    "        \"isolation_width\" : 1,\n",
    "        \"min_ms1_intensity\" : 5000,\n",
    "        \"mz_tol\" : 10,\n",
    "        \"rt_tol\" : 60\n",
    "    },\n",
    "    \n",
    "    \"roi_params\" : {\n",
    "        \"min_roi_length_for_fragmentation\" : 0,\n",
    "        \"roi_params\" : RoiBuilderParams(\n",
    "                            min_roi_intensity=0,\n",
    "                            min_roi_length=3,\n",
    "                       )\n",
    "    },\n",
    "    \n",
    "    \"non_overlap_params\": {\n",
    "    },\n",
    "    \n",
    "    \"smartroi_params\": {\n",
    "        \"rt_tol\" : 15,\n",
    "        \"smartroi_params\" : SmartRoiParams(\n",
    "                                reset_length_seconds=1E6,\n",
    "                                intensity_increase_factor=3,\n",
    "                                drop_perc=0.001\n",
    "                            )  \n",
    "    },\n",
    "    \n",
    "    \"weighteddew_params\": {\n",
    "        \"rt_tol\": 60,\n",
    "        \"exclusion_method\": ROI_EXCLUSION_WEIGHTED_DEW,\n",
    "        \"exclusion_t_0\": 1\n",
    "    }    \n",
    "}\n",
    "\n",
    "min_rt = 0\n",
    "max_rt = 1440\n",
    "scan_duration_dict = {\n",
    "    1: 0.59,\n",
    "    2: 0.19\n",
    "}\n",
    "point_noise_threshold = 0"
   ]
  },
  {
   "cell_type": "code",
   "execution_count": 11,
   "id": "5ecc293c",
   "metadata": {},
   "outputs": [],
   "source": [
    "centwave_params = {\n",
    "    \"ppm\" : 15,\n",
    "    \"pwlower\" : 15,\n",
    "    \"pwupper\" : 80,\n",
    "    \"snthresh\" : 5,\n",
    "    \"noise\" : 1000,\n",
    "    \"prefilterlower\" : 3,\n",
    "    \"prefilterupper\" : 500,\n",
    "    \"mzdiff\" : 0.001\n",
    "}\n",
    "\n",
    "mzmine_object = MZMineParams(\n",
    "    mzmine_template = mzmine_template,\n",
    "    mzmine_exe = mzmine_path\n",
    ")\n",
    "\n",
    "xcms_object = XCMSScriptParams(\n",
    "    xcms_r_script = xcms_r_script,\n",
    "    **centwave_params,\n",
    "    mzvsrtbalance = None,\n",
    "    absmz = None,\n",
    "    absrt = None,\n",
    "    kNN = None\n",
    ")\n",
    "\n",
    "#pp_params = mzmine_object\n",
    "pp_params = xcms_object"
   ]
  },
  {
   "cell_type": "code",
   "execution_count": 12,
   "id": "731e0c90",
   "metadata": {},
   "outputs": [],
   "source": [
    "dsda_params = {\n",
    "    \"dsda_loc\" : dsda_path,\n",
    "    \"min_rt\" : min_rt,\n",
    "    \"max_rt\" : max_rt, \n",
    "    \"scan_duration_dict\" : scan_duration_dict,\n",
    "    \"port\" : 7011,\n",
    "    \"rscript_loc\" : \"RScript\",\n",
    "    \"dsda_params\" : {\n",
    "        **centwave_params\n",
    "    }\n",
    "}\n",
    "\n",
    "same_dsda_params = {\n",
    "    **dsda_params,\n",
    "    \"base_controller\" : TopNController(**{**experiment_params[\"topN_params\"], \"N\" : 10}),\n",
    "    \"dsda_params\" : {\n",
    "        **dsda_params[\"dsda_params\"],\n",
    "        \"maxdepth\" : 3\n",
    "    }\n",
    "}\n",
    "\n",
    "rep_diff_dsda_params = {\n",
    "    **dsda_params,\n",
    "    \"base_controller\" : TopNController(**{**experiment_params[\"topN_params\"], \"N\" : 20}),\n",
    "    \"dsda_params\" : {\n",
    "        **dsda_params[\"dsda_params\"],\n",
    "        \"maxdepth\" : None\n",
    "    }\n",
    "}"
   ]
  },
  {
   "cell_type": "code",
   "execution_count": 13,
   "id": "41867451",
   "metadata": {},
   "outputs": [],
   "source": [
    "matching_params = {\n",
    "    \"aligned_reader\" : pp_params,\n",
    "    \"ionisation_mode\" : ionisation_mode,\n",
    "    \"isolation_width\" : experiment_params[\"topN_params\"][\"isolation_width\"],\n",
    "    \"intensity_threshold\" : experiment_params[\"topN_params\"][\"min_ms1_intensity\"],\n",
    "}"
   ]
  },
  {
   "cell_type": "markdown",
   "id": "e1a326f2",
   "metadata": {},
   "source": [
    "### Specify controllers to run"
   ]
  },
  {
   "cell_type": "code",
   "execution_count": 14,
   "id": "7b690612",
   "metadata": {},
   "outputs": [],
   "source": [
    "topN_params = experiment_params[\"topN_params\"]\n",
    "roi_params = {**topN_params, **experiment_params[\"roi_params\"]}\n",
    "non_overlap_params = {**roi_params, **experiment_params[\"non_overlap_params\"]}\n",
    "\n",
    "cases = [\n",
    "    (\"topN\", topN_params),\n",
    "    #(\"topN_RoI\", roi_params),\n",
    "    (\"topN_exclusion\", topN_params),\n",
    "    (\"topNEx\", non_overlap_params),\n",
    "    #(\"hard_roi_exclusion\", non_overlap_params),\n",
    "    #(\"intensity_roi_exclusion\", non_overlap_params),\n",
    "    #(\"non_overlap\", non_overlap_params),\n",
    "    (\"intensity_non_overlap\", non_overlap_params)\n",
    "]\n",
    "\n",
    "intensity_methods = [\"intensity_roi_exclusion\", \"intensity_non_overlap\"]\n",
    "\n",
    "no_smartroi = [\"topN\", \"topN_RoI\", \"topN_exclusion\", \"dsda\"]\n",
    "#run_smartroi = []\n",
    "run_smartroi = [name for name, _ in cases if not name in no_smartroi]\n",
    "#run_weighteddew = []\n",
    "run_weighteddew = [name for name, _ in cases if not name in no_smartroi]"
   ]
  },
  {
   "cell_type": "code",
   "execution_count": 15,
   "id": "c7c63a6a-389b-43d8-806a-de0c420647d8",
   "metadata": {},
   "outputs": [],
   "source": [
    "matching_modes = {\n",
    "    \"unweighted_matching\": (Matching.UNWEIGHTED, Matching.MATCHING_ONLY),\n",
    "    \"two_step_matching\": (Matching.TWOSTEP, Matching.MATCHING_ONLY),\n",
    "    \"two_step_matching_with_recursive_assignment\": (Matching.TWOSTEP, Matching.RECURSIVE_ASSIGNMENT),\n",
    "    \"two_step_matching_with_nearest_assignment\": (Matching.TWOSTEP, Matching.NEAREST_ASSIGNMENT),\n",
    "}\n",
    "\n",
    "run_inclusion = [\n",
    "    \"topNEx\", \"intensity_non_overlap\"\n",
    "]"
   ]
  },
  {
   "cell_type": "code",
   "execution_count": 16,
   "id": "e77c71ef",
   "metadata": {},
   "outputs": [],
   "source": [
    "new_cases = []\n",
    "for controller_type, params in cases:\n",
    "    new_cases.append(\n",
    "        (controller_type, controller_type, params)\n",
    "    )\n",
    "    \n",
    "    if(controller_type in run_smartroi):\n",
    "        new_name = controller_type + \"_smartroi\"\n",
    "        new_params = {**params, **experiment_params[\"smartroi_params\"]}\n",
    "        new_cases.append(\n",
    "            (controller_type, new_name, new_params)\n",
    "        )\n",
    "        \n",
    "        intensity_methods.append(new_name)\n",
    "        if(controller_type in run_inclusion):\n",
    "            run_inclusion.append(new_name)\n",
    "        \n",
    "    if(controller_type in run_weighteddew):\n",
    "        new_name = controller_type + \"_weighteddew\"\n",
    "        new_params = {**params, **experiment_params[\"weighteddew_params\"]}\n",
    "        new_cases.append(\n",
    "            (controller_type, new_name, new_params)\n",
    "        )\n",
    "        \n",
    "        intensity_methods.append(new_name)\n",
    "        if(controller_type in run_inclusion):\n",
    "            run_inclusion.append(new_name)\n",
    "\n",
    "cases = new_cases"
   ]
  },
  {
   "cell_type": "code",
   "execution_count": 17,
   "id": "57f23d5d-da42-44a9-a25c-7af04476d14c",
   "metadata": {},
   "outputs": [],
   "source": [
    "def get_matching_cases(fullscans, times_list, aligned_file, edge_limit=None, pickle_env=False):\n",
    "    matchings = {}\n",
    "    for w_mode in set(m for _, (m, _) in matching_modes.items()):\n",
    "        rp = RoiBuilderParams(\n",
    "            min_roi_intensity=point_noise_threshold,\n",
    "            at_least_one_point_above=experiment_params[\"topN_params\"][\"min_ms1_intensity\"] * 0.5,\n",
    "            min_roi_length=2\n",
    "        )\n",
    "        \n",
    "        base_matching = Matching.make_matching(\n",
    "            fullscans,\n",
    "            times_list,\n",
    "            pp_params,\n",
    "            aligned_file,\n",
    "            ionisation_mode,\n",
    "            experiment_params[\"topN_params\"][\"min_ms1_intensity\"],\n",
    "            roi_params=rp,\n",
    "            edge_limit=edge_limit,\n",
    "            weighted=w_mode,\n",
    "            full_assignment_strategy=Matching.MATCHING_ONLY\n",
    "        )\n",
    "\n",
    "        for name, (w_mode_2, a_mode) in matching_modes.items():\n",
    "            if(w_mode != w_mode_2): continue\n",
    "            \n",
    "            if(a_mode == Matching.MATCHING_ONLY):\n",
    "                matchings[name] = base_matching\n",
    "            else:\n",
    "                matchings[name] = copy.deepcopy(base_matching)\n",
    "                matchings[name].assign_remaining_scans(a_mode)\n",
    "                matchings[name].strip() # NetworkX graph uses several GB because there are so many edges - delete graph after matching calculated\n",
    "\n",
    "        base_matching.strip()\n",
    "\n",
    "    inclusion_boxes = matchings[\"two_step_matching_with_recursive_assignment\"].make_inclusion_boxes(rt_width=10, mz_width=10)\n",
    "    grid_base = BoxManager(inclusion_boxes=inclusion_boxes)\n",
    "    intensity_grid_base = BoxManager(inclusion_boxes=inclusion_boxes, box_splitter=BoxSplitter(split=True))\n",
    "\n",
    "    new_cases = [\n",
    "        ExperimentCase(\n",
    "            \"matching\", fullscans, {\"isolation_width\": 1},\n",
    "            name=name, shareable_base=matching, pickle_env=pickle_env \n",
    "        )\n",
    "        for name, matching in matchings.items()\n",
    "    ]\n",
    "\n",
    "    return new_cases + [\n",
    "        ExperimentCase(\n",
    "            controller_type, fullscans, params,\n",
    "            name=basename + \"_inclusion\", shareable_base=(intensity_grid_base if basename in intensity_methods else grid_base),\n",
    "            pickle_env=pickle_env \n",
    "        )\n",
    "        for controller_type, basename, params in cases\n",
    "        if(controller_type in run_inclusion)\n",
    "    ]"
   ]
  },
  {
   "cell_type": "markdown",
   "id": "399c4ec2-eb73-444e-b3fc-3fd17a3d6cd6",
   "metadata": {},
   "source": [
    "# 1. Same Beer Repeated (Same Fullscan)"
   ]
  },
  {
   "cell_type": "code",
   "execution_count": 18,
   "id": "cf1dffcb-40f6-46d1-bb99-59121afcc990",
   "metadata": {},
   "outputs": [
    {
     "name": "stdout",
     "output_type": "stream",
     "text": [
      "5784 aligned boxes contained in file\n",
      "\n"
     ]
    }
   ],
   "source": [
    "repeat = 6\n",
    "out_dir = \"same_beer\"\n",
    "fullscans = same_beer_fullscans[repeat:repeat+1] * repeat\n",
    "aligned_file = f\"stefanbeersID{repeat+1}\" + template_suffix\n",
    "\n",
    "aligned_file = pp_params.pick_aligned_peaks(\n",
    "    fullscans,\n",
    "    out_dir,\n",
    "    aligned_file,\n",
    "    force=False\n",
    ")\n",
    "print()\n",
    "\n",
    "times_list = [\n",
    "    list(MatchingScan.topN_times(N, max_rt, scan_duration_dict))\n",
    "    for N in [20] * repeat\n",
    "]\n",
    "\n",
    "same_cases = cases + [(\"dsda\", \"dsda\", same_dsda_params)]"
   ]
  },
  {
   "cell_type": "code",
   "execution_count": 19,
   "id": "553b52ff-ebf8-42a6-ab5e-a22ecd6654d8",
   "metadata": {},
   "outputs": [
    {
     "name": "stdout",
     "output_type": "stream",
     "text": [
      "Creating Chemicals...\n",
      "\n",
      "Running Experiment of 19 cases...\n"
     ]
    }
   ],
   "source": [
    "same_beer_exp = Experiment()\n",
    "\n",
    "same_beer_exp.add_cases(\n",
    "    ExperimentCase(controller_type, fullscans, params, name=name, pickle_env=False)\n",
    "    for controller_type, name, params in same_cases\n",
    ")\n",
    "\n",
    "same_beer_exp.add_cases(\n",
    "    get_matching_cases(fullscans, times_list, aligned_file, edge_limit=None, pickle_env=False)\n",
    ")\n",
    "\n",
    "same_beer_exp.run_experiment(\n",
    "    os.path.join(out_dir, str(repeat)),\n",
    "    min_rt=min_rt,\n",
    "    max_rt=max_rt,\n",
    "    ionisation_mode=ionisation_mode,\n",
    "    scan_duration_dict=scan_duration_dict,\n",
    "    overwrite_keyfile=False,\n",
    "    point_noise_threshold=point_noise_threshold,\n",
    "    chem_noise_threshold=experiment_params[\"topN_params\"][\"min_ms1_intensity\"] * 0.5, #filter low intensity signal for memory\n",
    "    num_workers=num_workers\n",
    ")"
   ]
  },
  {
   "cell_type": "code",
   "execution_count": 20,
   "id": "449ad849-3d06-43c1-86f5-73a9f4ee7b56",
   "metadata": {},
   "outputs": [
    {
     "name": "stdout",
     "output_type": "stream",
     "text": [
      "UNWEIGHTED_MATCHING\n",
      "matching_size: 4511\n",
      "chem_count: 5784\n",
      "scan_count: 39360\n",
      "edge_count: 2833788\n",
      "chems_above_threshold: 4660\n",
      "start_scan: 2024-09-21 14:37:06.671859\n",
      "end_scan: 2024-09-21 14:43:24.496871\n",
      "start_chem: 2024-09-21 14:43:25.275115\n",
      "end_chem: 2024-09-21 14:43:25.365977\n",
      "start_matching: 2024-09-21 14:43:25.365977\n",
      "end_matching: 2024-09-21 14:43:42.327577\n",
      "start_assign: 2024-09-21 14:43:42.327577\n",
      "end_assign: 2024-09-21 14:43:42.335654\n",
      "\n",
      "TWO_STEP_MATCHING\n",
      "matching_size: 4511\n",
      "chem_count: 5784\n",
      "scan_count: 39360\n",
      "edge_count: 2833788\n",
      "chems_above_threshold: 4660\n",
      "start_scan: 2024-09-21 14:43:56.392449\n",
      "end_scan: 2024-09-21 14:50:15.256191\n",
      "start_chem: 2024-09-21 14:50:16.041673\n",
      "end_chem: 2024-09-21 14:50:16.124339\n",
      "start_matching: 2024-09-21 14:50:16.132392\n",
      "end_matching: 2024-09-21 14:51:05.144100\n",
      "start_assign: 2024-09-21 14:51:05.144100\n",
      "end_assign: 2024-09-21 14:51:05.154181\n",
      "\n",
      "TWO_STEP_MATCHING_WITH_RECURSIVE_ASSIGNMENT\n",
      "matching_size: 4511\n",
      "chem_count: 5784\n",
      "scan_count: 39360\n",
      "edge_count: 2833788\n",
      "chems_above_threshold: 4660\n",
      "start_scan: 2024-09-21 14:43:56.392449\n",
      "end_scan: 2024-09-21 14:50:15.256191\n",
      "start_chem: 2024-09-21 14:50:16.041673\n",
      "end_chem: 2024-09-21 14:50:16.124339\n",
      "start_matching: 2024-09-21 14:50:16.132392\n",
      "end_matching: 2024-09-21 14:51:05.144100\n",
      "start_assign: 2024-09-21 14:51:55.608644\n",
      "end_assign: 2024-09-21 14:57:18.015363\n",
      "\n",
      "TWO_STEP_MATCHING_WITH_NEAREST_ASSIGNMENT\n",
      "matching_size: 4511\n",
      "chem_count: 5784\n",
      "scan_count: 39360\n",
      "edge_count: 2833788\n",
      "chems_above_threshold: 4660\n",
      "start_scan: 2024-09-21 14:43:56.392449\n",
      "end_scan: 2024-09-21 14:50:15.256191\n",
      "start_chem: 2024-09-21 14:50:16.041673\n",
      "end_chem: 2024-09-21 14:50:16.124339\n",
      "start_matching: 2024-09-21 14:50:16.132392\n",
      "end_matching: 2024-09-21 14:51:05.144100\n",
      "start_assign: 2024-09-21 14:57:57.544885\n",
      "end_assign: 2024-09-21 14:57:57.554955\n",
      "\n"
     ]
    }
   ],
   "source": [
    "for case_name in matching_modes.keys():\n",
    "    i = same_beer_exp.case_names.index(case_name)\n",
    "    case = same_beer_exp.cases[i]\n",
    "    \n",
    "    print(case_name.upper())\n",
    "    print(case.log)\n",
    "    print()"
   ]
  },
  {
   "cell_type": "code",
   "execution_count": 21,
   "id": "bfed93f9-0802-40dc-b9f2-d7512e2f038a",
   "metadata": {},
   "outputs": [
    {
     "name": "stdout",
     "output_type": "stream",
     "text": [
      "Creating Chemicals...\n",
      "\n",
      "Running Experiment of 10 cases...\n",
      "Creating Chemicals...\n",
      "\n",
      "Running Experiment of 10 cases...\n",
      "Creating Chemicals...\n",
      "\n",
      "Running Experiment of 10 cases...\n",
      "Creating Chemicals...\n",
      "\n",
      "Running Experiment of 10 cases...\n",
      "Creating Chemicals...\n",
      "\n",
      "Running Experiment of 10 cases...\n"
     ]
    }
   ],
   "source": [
    "#run matching exhaustively up to the right number of iterations\n",
    "for i in range(1, repeat):\n",
    "    iter_dir = os.path.join(out_dir, str(i))\n",
    "    iter_times = times_list[:i]\n",
    "    \n",
    "    same_beer_exp = Experiment()\n",
    "    same_beer_exp.add_cases(\n",
    "        get_matching_cases(fullscans[:i], iter_times, aligned_file, edge_limit=None, pickle_env=False)\n",
    "    )\n",
    "\n",
    "    same_beer_exp.run_experiment(\n",
    "        iter_dir,\n",
    "        min_rt=min_rt,\n",
    "        max_rt=max_rt,\n",
    "        ionisation_mode=ionisation_mode,\n",
    "        scan_duration_dict=scan_duration_dict,\n",
    "        overwrite_keyfile=False,\n",
    "        point_noise_threshold=point_noise_threshold,\n",
    "        chem_noise_threshold=matching_params[\"intensity_threshold\"] * 0.5, #filter low intensity signal for memory\n",
    "        num_workers=num_workers\n",
    "    )"
   ]
  },
  {
   "cell_type": "markdown",
   "id": "d1d9031e",
   "metadata": {},
   "source": [
    "# 2. Same Beer Repeated (Different Fullscans)"
   ]
  },
  {
   "cell_type": "code",
   "execution_count": 22,
   "id": "ed696958-c7af-40ba-8f73-308413cb7958",
   "metadata": {},
   "outputs": [
    {
     "name": "stdout",
     "output_type": "stream",
     "text": [
      "9671 aligned boxes contained in file\n",
      "\n"
     ]
    }
   ],
   "source": [
    "repeat = 6\n",
    "out_dir = \"same_iterbeer\"\n",
    "fullscans = same_beer_fullscans[repeat:2*repeat]\n",
    "aligned_file = f\"stefanbeersID{repeat+1}-{2*repeat}\" + template_suffix\n",
    "\n",
    "aligned_file = pp_params.pick_aligned_peaks(\n",
    "    fullscans,\n",
    "    out_dir,\n",
    "    aligned_file,\n",
    "    force=False\n",
    ")\n",
    "print()\n",
    "\n",
    "times_list = [\n",
    "    list(MatchingScan.topN_times(N, max_rt, scan_duration_dict))\n",
    "    for N in [20] * repeat\n",
    "]\n",
    "\n",
    "same_cases = cases + [(\"dsda\", \"dsda\", same_dsda_params)]"
   ]
  },
  {
   "cell_type": "code",
   "execution_count": 23,
   "id": "4ae554fe-a4df-4bba-9857-ace66ce81433",
   "metadata": {},
   "outputs": [
    {
     "name": "stdout",
     "output_type": "stream",
     "text": [
      "Creating Chemicals...\n",
      "\n",
      "Running Experiment of 19 cases...\n"
     ]
    }
   ],
   "source": [
    "same_beer_exp = Experiment()\n",
    "\n",
    "same_beer_exp.add_cases(\n",
    "    ExperimentCase(controller_type, fullscans, params, name=name, pickle_env=False)\n",
    "    for controller_type, name, params in same_cases\n",
    ")\n",
    "\n",
    "same_beer_exp.add_cases(\n",
    "    get_matching_cases(fullscans, times_list, aligned_file, edge_limit=None, pickle_env=False)\n",
    ")\n",
    "\n",
    "same_beer_exp.run_experiment(\n",
    "    os.path.join(out_dir, str(repeat)),\n",
    "    min_rt=min_rt,\n",
    "    max_rt=max_rt,\n",
    "    ionisation_mode=ionisation_mode,\n",
    "    scan_duration_dict=scan_duration_dict,\n",
    "    overwrite_keyfile=False,\n",
    "    point_noise_threshold=point_noise_threshold,\n",
    "    chem_noise_threshold=experiment_params[\"topN_params\"][\"min_ms1_intensity\"] * 0.5, #filter low intensity signal for memory\n",
    "    num_workers=num_workers\n",
    ")"
   ]
  },
  {
   "cell_type": "code",
   "execution_count": 24,
   "id": "9c488756",
   "metadata": {},
   "outputs": [
    {
     "name": "stdout",
     "output_type": "stream",
     "text": [
      "UNWEIGHTED_MATCHING\n",
      "matching_size: 7560\n",
      "chem_count: 9671\n",
      "scan_count: 39360\n",
      "edge_count: 2831327\n",
      "chems_above_threshold: 7916\n",
      "start_scan: 2024-09-21 18:12:44.389714\n",
      "end_scan: 2024-09-21 18:44:44.739995\n",
      "start_chem: 2024-09-21 18:44:47.885450\n",
      "end_chem: 2024-09-21 18:44:48.077023\n",
      "start_matching: 2024-09-21 18:44:48.087090\n",
      "end_matching: 2024-09-21 18:45:09.891475\n",
      "start_assign: 2024-09-21 18:45:09.891475\n",
      "end_assign: 2024-09-21 18:45:09.903571\n",
      "\n",
      "TWO_STEP_MATCHING\n",
      "matching_size: 7560\n",
      "chem_count: 9671\n",
      "scan_count: 39360\n",
      "edge_count: 2831327\n",
      "chems_above_threshold: 7916\n",
      "start_scan: 2024-09-21 18:45:24.008181\n",
      "end_scan: 2024-09-21 19:17:25.495372\n",
      "start_chem: 2024-09-21 19:17:28.662066\n",
      "end_chem: 2024-09-21 19:17:28.853567\n",
      "start_matching: 2024-09-21 19:17:28.863644\n",
      "end_matching: 2024-09-21 19:18:24.761427\n",
      "start_assign: 2024-09-21 19:18:24.761427\n",
      "end_assign: 2024-09-21 19:18:24.771532\n",
      "\n",
      "TWO_STEP_MATCHING_WITH_RECURSIVE_ASSIGNMENT\n",
      "matching_size: 7560\n",
      "chem_count: 9671\n",
      "scan_count: 39360\n",
      "edge_count: 2831327\n",
      "chems_above_threshold: 7916\n",
      "start_scan: 2024-09-21 18:45:24.008181\n",
      "end_scan: 2024-09-21 19:17:25.495372\n",
      "start_chem: 2024-09-21 19:17:28.662066\n",
      "end_chem: 2024-09-21 19:17:28.853567\n",
      "start_matching: 2024-09-21 19:17:28.863644\n",
      "end_matching: 2024-09-21 19:18:24.761427\n",
      "start_assign: 2024-09-21 19:19:18.479145\n",
      "end_assign: 2024-09-21 19:24:14.754256\n",
      "\n",
      "TWO_STEP_MATCHING_WITH_NEAREST_ASSIGNMENT\n",
      "matching_size: 7560\n",
      "chem_count: 9671\n",
      "scan_count: 39360\n",
      "edge_count: 2831327\n",
      "chems_above_threshold: 7916\n",
      "start_scan: 2024-09-21 18:45:24.008181\n",
      "end_scan: 2024-09-21 19:17:25.495372\n",
      "start_chem: 2024-09-21 19:17:28.662066\n",
      "end_chem: 2024-09-21 19:17:28.853567\n",
      "start_matching: 2024-09-21 19:17:28.863644\n",
      "end_matching: 2024-09-21 19:18:24.761427\n",
      "start_assign: 2024-09-21 19:24:55.241434\n",
      "end_assign: 2024-09-21 19:24:55.263669\n",
      "\n"
     ]
    }
   ],
   "source": [
    "for case_name in matching_modes.keys():\n",
    "    i = same_beer_exp.case_names.index(case_name)\n",
    "    case = same_beer_exp.cases[i]\n",
    "    \n",
    "    print(case_name.upper())\n",
    "    print(case.log)\n",
    "    print()"
   ]
  },
  {
   "cell_type": "code",
   "execution_count": 25,
   "id": "53d10b22-37a3-40f2-a70e-d636b645dc7f",
   "metadata": {},
   "outputs": [
    {
     "name": "stdout",
     "output_type": "stream",
     "text": [
      "Creating Chemicals...\n",
      "\n",
      "Running Experiment of 10 cases...\n",
      "Creating Chemicals...\n",
      "\n",
      "Running Experiment of 10 cases...\n",
      "Creating Chemicals...\n",
      "\n",
      "Running Experiment of 10 cases...\n",
      "Creating Chemicals...\n",
      "\n",
      "Running Experiment of 10 cases...\n",
      "Creating Chemicals...\n",
      "\n",
      "Running Experiment of 10 cases...\n"
     ]
    }
   ],
   "source": [
    "#run matching exhaustively up to the right number of iterations\n",
    "for i in range(1, repeat):\n",
    "    iter_dir = os.path.join(out_dir, str(i))\n",
    "    iter_times = times_list[:i]\n",
    "    \n",
    "    same_beer_exp = Experiment()\n",
    "    same_beer_exp.add_cases(\n",
    "        get_matching_cases(fullscans[:i], iter_times, aligned_file, edge_limit=None, pickle_env=False)\n",
    "    )\n",
    "\n",
    "    same_beer_exp.run_experiment(\n",
    "        iter_dir,\n",
    "        min_rt=min_rt,\n",
    "        max_rt=max_rt,\n",
    "        ionisation_mode=ionisation_mode,\n",
    "        scan_duration_dict=scan_duration_dict,\n",
    "        overwrite_keyfile=False,\n",
    "        point_noise_threshold=point_noise_threshold,\n",
    "        chem_noise_threshold=matching_params[\"intensity_threshold\"] * 0.5, #filter low intensity signal for memory\n",
    "        num_workers=num_workers\n",
    "    )"
   ]
  },
  {
   "cell_type": "markdown",
   "id": "526a5f22-34cf-432e-9c72-691bf70a8dc9",
   "metadata": {},
   "source": [
    "# 3. Same Beer Repeated (Different Fullscans, Different Plan)"
   ]
  },
  {
   "cell_type": "code",
   "execution_count": 26,
   "id": "cedd9fa2-c3c0-4ad4-9650-3d804920fb08",
   "metadata": {},
   "outputs": [
    {
     "name": "stdout",
     "output_type": "stream",
     "text": [
      "10385 aligned boxes contained in file\n",
      "\n"
     ]
    }
   ],
   "source": [
    "repeat = 6\n",
    "out_dir = \"same_iterswapbeer\"\n",
    "fullscans = same_beer_fullscans[repeat:repeat*2]\n",
    "fullscans2 = same_beer_fullscans[:repeat] # use the ones that happened _first_ for the plan\n",
    "aligned_file = f\"stefanbeersID1-{repeat}\" + template_suffix\n",
    "\n",
    "aligned_file = pp_params.pick_aligned_peaks(\n",
    "    fullscans,\n",
    "    out_dir,\n",
    "    aligned_file,\n",
    "    force=False\n",
    ")\n",
    "print()\n",
    "\n",
    "times_list = [\n",
    "    list(MatchingScan.topN_times(N, max_rt, scan_duration_dict))\n",
    "    for N in [20] * repeat\n",
    "]\n",
    "\n",
    "same_cases = cases + [(\"dsda\", \"dsda\", same_dsda_params)]"
   ]
  },
  {
   "cell_type": "code",
   "execution_count": 27,
   "id": "1fb2d714-18a6-40dd-8d2e-f3fbf8eafe7a",
   "metadata": {},
   "outputs": [
    {
     "name": "stdout",
     "output_type": "stream",
     "text": [
      "Creating Chemicals...\n",
      "\n",
      "Running Experiment of 10 cases...\n",
      "Creating Chemicals...\n",
      "\n",
      "Running Experiment of 10 cases...\n",
      "Creating Chemicals...\n",
      "\n",
      "Running Experiment of 10 cases...\n",
      "Creating Chemicals...\n",
      "\n",
      "Running Experiment of 10 cases...\n",
      "Creating Chemicals...\n",
      "\n",
      "Running Experiment of 10 cases...\n",
      "Creating Chemicals...\n",
      "\n",
      "Running Experiment of 10 cases...\n"
     ]
    }
   ],
   "source": [
    "for i in range(1, repeat+1):\n",
    "    iter_dir = os.path.join(out_dir, str(i))\n",
    "    iter_times = times_list[:i]\n",
    "    \n",
    "    same_beer_exp = Experiment()\n",
    "\n",
    "    matching_cases = get_matching_cases(fullscans2[:i], iter_times, aligned_file, edge_limit=None, pickle_env=False)\n",
    "    for case in matching_cases: case.fullscan_paths = fullscans[:i]\n",
    "    \n",
    "    same_beer_exp.add_cases(matching_cases)\n",
    "\n",
    "    same_beer_exp.run_experiment(\n",
    "        iter_dir,\n",
    "        min_rt=min_rt,\n",
    "        max_rt=max_rt,\n",
    "        ionisation_mode=ionisation_mode,\n",
    "        scan_duration_dict=scan_duration_dict,\n",
    "        overwrite_keyfile=False,\n",
    "        point_noise_threshold=point_noise_threshold,\n",
    "        chem_noise_threshold=matching_params[\"intensity_threshold\"] * 0.5, #filter low intensity signal for memory\n",
    "        num_workers=num_workers\n",
    "    )"
   ]
  },
  {
   "cell_type": "markdown",
   "id": "4c1f2fe6-eb1d-4897-b98d-0de397b1cb40",
   "metadata": {},
   "source": [
    "# 4. Repeating Different Beers (Same Fullscans)"
   ]
  },
  {
   "cell_type": "code",
   "execution_count": 28,
   "id": "12323bdd-dbab-4da1-bd93-6233115a2194",
   "metadata": {},
   "outputs": [
    {
     "name": "stdout",
     "output_type": "stream",
     "text": [
      "11804 aligned boxes contained in file\n",
      "\n"
     ]
    }
   ],
   "source": [
    "bio_repeat = 4\n",
    "tech_repeat = 3\n",
    "repeat = bio_repeat * tech_repeat\n",
    "\n",
    "out_dir = \"repeated_different_beer\"\n",
    "fullscans = rep_diff_beer_fullscans[:bio_repeat] * tech_repeat\n",
    "aligned_file = f\"stefanbeersID{id_offset+1}-{id_offset+bio_repeat}\" + template_suffix\n",
    "edge_limit = None\n",
    "\n",
    "aligned_file = pp_params.pick_aligned_peaks(\n",
    "    fullscans,\n",
    "    out_dir,\n",
    "    aligned_file,\n",
    "    force=False\n",
    ")\n",
    "print()\n",
    "\n",
    "times_list = [\n",
    "    list(MatchingScan.topN_times(N, max_rt, scan_duration_dict))\n",
    "    for N in [20] * (bio_repeat * tech_repeat)\n",
    "]\n",
    "\n",
    "repeated_different_cases = cases + [(\"dsda\", \"dsda\", rep_diff_dsda_params)]"
   ]
  },
  {
   "cell_type": "code",
   "execution_count": 29,
   "id": "ae1a52ff-dab4-417e-a35c-cf525bd3e6e0",
   "metadata": {},
   "outputs": [
    {
     "name": "stdout",
     "output_type": "stream",
     "text": [
      "Creating Chemicals...\n",
      "\n",
      "Running Experiment of 19 cases...\n"
     ]
    }
   ],
   "source": [
    "rep_diff_beer_exp = Experiment()\n",
    "\n",
    "rep_diff_beer_exp.add_cases(\n",
    "    ExperimentCase(controller_type, fullscans, params, name=name, pickle_env=False)\n",
    "    for controller_type, name, params in repeated_different_cases\n",
    ")\n",
    "\n",
    "rep_diff_beer_exp.add_cases(\n",
    "    get_matching_cases(fullscans, times_list, aligned_file, edge_limit=None, pickle_env=False)\n",
    ")\n",
    "\n",
    "rep_diff_beer_exp.run_experiment(\n",
    "    os.path.join(out_dir, str(bio_repeat * tech_repeat)),\n",
    "    min_rt=min_rt,\n",
    "    max_rt=max_rt,\n",
    "    ionisation_mode=ionisation_mode,\n",
    "    scan_duration_dict=scan_duration_dict,\n",
    "    overwrite_keyfile=False,\n",
    "    point_noise_threshold=point_noise_threshold,\n",
    "    chem_noise_threshold=experiment_params[\"topN_params\"][\"min_ms1_intensity\"] * 0.5, #filter low intensity signal for memory\n",
    "    num_workers=num_workers\n",
    ")"
   ]
  },
  {
   "cell_type": "code",
   "execution_count": 30,
   "id": "df9f6fe6-f9f0-43d0-91ee-4c7a30d11861",
   "metadata": {},
   "outputs": [
    {
     "name": "stdout",
     "output_type": "stream",
     "text": [
      "UNWEIGHTED_MATCHING\n",
      "matching_size: 9479\n",
      "chem_count: 11804\n",
      "scan_count: 78720\n",
      "edge_count: 5976762\n",
      "chems_above_threshold: 9802\n",
      "start_scan: 2024-09-22 06:26:56.447829\n",
      "end_scan: 2024-09-22 06:51:52.827853\n",
      "start_chem: 2024-09-22 06:51:55.147542\n",
      "end_chem: 2024-09-22 06:51:55.391721\n",
      "start_matching: 2024-09-22 06:51:55.401886\n",
      "end_matching: 2024-09-22 06:52:43.424049\n",
      "start_assign: 2024-09-22 06:52:43.424049\n",
      "end_assign: 2024-09-22 06:52:43.444203\n",
      "\n",
      "TWO_STEP_MATCHING\n",
      "matching_size: 9479\n",
      "chem_count: 11804\n",
      "scan_count: 78720\n",
      "edge_count: 5976762\n",
      "chems_above_threshold: 9802\n",
      "start_scan: 2024-09-22 06:53:15.952224\n",
      "end_scan: 2024-09-22 07:17:55.953347\n",
      "start_chem: 2024-09-22 07:17:58.253364\n",
      "end_chem: 2024-09-22 07:17:58.515511\n",
      "start_matching: 2024-09-22 07:17:58.525587\n",
      "end_matching: 2024-09-22 07:20:02.068429\n",
      "start_assign: 2024-09-22 07:20:02.068429\n",
      "end_assign: 2024-09-22 07:20:02.088583\n",
      "\n",
      "TWO_STEP_MATCHING_WITH_RECURSIVE_ASSIGNMENT\n",
      "matching_size: 9479\n",
      "chem_count: 11804\n",
      "scan_count: 78720\n",
      "edge_count: 5976762\n",
      "chems_above_threshold: 9802\n",
      "start_scan: 2024-09-22 06:53:15.952224\n",
      "end_scan: 2024-09-22 07:17:55.953347\n",
      "start_chem: 2024-09-22 07:17:58.253364\n",
      "end_chem: 2024-09-22 07:17:58.515511\n",
      "start_matching: 2024-09-22 07:17:58.525587\n",
      "end_matching: 2024-09-22 07:20:02.068429\n",
      "start_assign: 2024-09-22 07:21:59.776988\n",
      "end_assign: 2024-09-22 07:35:45.543132\n",
      "\n",
      "TWO_STEP_MATCHING_WITH_NEAREST_ASSIGNMENT\n",
      "matching_size: 9479\n",
      "chem_count: 11804\n",
      "scan_count: 78720\n",
      "edge_count: 5976762\n",
      "chems_above_threshold: 9802\n",
      "start_scan: 2024-09-22 06:53:15.952224\n",
      "end_scan: 2024-09-22 07:17:55.953347\n",
      "start_chem: 2024-09-22 07:17:58.253364\n",
      "end_chem: 2024-09-22 07:17:58.515511\n",
      "start_matching: 2024-09-22 07:17:58.525587\n",
      "end_matching: 2024-09-22 07:20:02.068429\n",
      "start_assign: 2024-09-22 07:37:15.303519\n",
      "end_assign: 2024-09-22 07:37:15.335789\n",
      "\n"
     ]
    }
   ],
   "source": [
    "for case_name in matching_modes.keys():\n",
    "    i = rep_diff_beer_exp.case_names.index(case_name)\n",
    "    case = rep_diff_beer_exp.cases[i]\n",
    "    \n",
    "    print(case_name.upper())\n",
    "    print(case.log)\n",
    "    print()"
   ]
  },
  {
   "cell_type": "code",
   "execution_count": 31,
   "id": "aaea77af-1d3b-4c87-98d2-fc9f02d4c4ee",
   "metadata": {},
   "outputs": [
    {
     "name": "stdout",
     "output_type": "stream",
     "text": [
      "Creating Chemicals...\n",
      "\n",
      "Running Experiment of 10 cases...\n",
      "Creating Chemicals...\n",
      "\n",
      "Running Experiment of 10 cases...\n",
      "Creating Chemicals...\n",
      "\n",
      "Running Experiment of 10 cases...\n",
      "Creating Chemicals...\n",
      "\n",
      "Running Experiment of 10 cases...\n",
      "Creating Chemicals...\n",
      "\n",
      "Running Experiment of 10 cases...\n",
      "Creating Chemicals...\n",
      "\n",
      "Running Experiment of 10 cases...\n",
      "Creating Chemicals...\n",
      "\n",
      "Running Experiment of 10 cases...\n",
      "Creating Chemicals...\n",
      "\n",
      "Running Experiment of 10 cases...\n",
      "Creating Chemicals...\n",
      "\n",
      "Running Experiment of 10 cases...\n",
      "Creating Chemicals...\n",
      "\n",
      "Running Experiment of 10 cases...\n",
      "Creating Chemicals...\n",
      "\n",
      "Running Experiment of 10 cases...\n"
     ]
    }
   ],
   "source": [
    "#run matching exhaustively up to the right number of iterations\n",
    "for i in range(1, repeat):\n",
    "    iter_dir = os.path.join(out_dir, str(i))\n",
    "    iter_times = times_list[:i]\n",
    "    \n",
    "    rep_diff_beer_exp = Experiment()\n",
    "    rep_diff_beer_exp.add_cases(\n",
    "        get_matching_cases(fullscans[:i], iter_times, aligned_file, edge_limit=None, pickle_env=False)\n",
    "    )\n",
    "\n",
    "    rep_diff_beer_exp.run_experiment(\n",
    "        iter_dir,\n",
    "        min_rt=min_rt,\n",
    "        max_rt=max_rt,\n",
    "        ionisation_mode=ionisation_mode,\n",
    "        scan_duration_dict=scan_duration_dict,\n",
    "        overwrite_keyfile=False,\n",
    "        point_noise_threshold=point_noise_threshold,\n",
    "        chem_noise_threshold=matching_params[\"intensity_threshold\"] * 0.5, #filter low intensity signal for memory\n",
    "        num_workers=num_workers\n",
    "    )"
   ]
  },
  {
   "cell_type": "markdown",
   "id": "35b0cd28",
   "metadata": {},
   "source": [
    "# 5. Repeating Different Beers (Different Fullscans)"
   ]
  },
  {
   "cell_type": "code",
   "execution_count": 32,
   "id": "088b9508",
   "metadata": {
    "scrolled": true
   },
   "outputs": [
    {
     "name": "stdout",
     "output_type": "stream",
     "text": [
      "17741 aligned boxes contained in file\n",
      "\n"
     ]
    }
   ],
   "source": [
    "bio_repeat = 4\n",
    "tech_repeat = 3\n",
    "repeat = bio_repeat * tech_repeat\n",
    "\n",
    "out_dir = \"repeated_different_iterbeer\"\n",
    "fullscans = rep_diff_beer_fullscans[repeat:2*repeat]\n",
    "aligned_file = f\"stefanbeersID{id_offset+repeat+1}-{id_offset+2*repeat}\" + template_suffix\n",
    "edge_limit = None\n",
    "\n",
    "aligned_file = pp_params.pick_aligned_peaks(\n",
    "    fullscans,\n",
    "    out_dir,\n",
    "    aligned_file,\n",
    "    force=False\n",
    ")\n",
    "print()\n",
    "\n",
    "times_list = [\n",
    "    list(MatchingScan.topN_times(N, max_rt, scan_duration_dict))\n",
    "    for N in [20] * (bio_repeat * tech_repeat)\n",
    "]\n",
    "\n",
    "repeated_different_cases = cases + [(\"dsda\", \"dsda\", rep_diff_dsda_params)]"
   ]
  },
  {
   "cell_type": "code",
   "execution_count": 33,
   "id": "dd0c528b",
   "metadata": {},
   "outputs": [
    {
     "name": "stdout",
     "output_type": "stream",
     "text": [
      "Creating Chemicals...\n",
      "\n",
      "Running Experiment of 19 cases...\n"
     ]
    }
   ],
   "source": [
    "rep_diff_beer_exp = Experiment()\n",
    "\n",
    "rep_diff_beer_exp.add_cases(\n",
    "    ExperimentCase(controller_type, fullscans, params, name=name, pickle_env=False)\n",
    "    for controller_type, name, params in repeated_different_cases\n",
    ")\n",
    "\n",
    "rep_diff_beer_exp.add_cases(\n",
    "    get_matching_cases(fullscans, times_list, aligned_file, edge_limit=None, pickle_env=False)\n",
    ")\n",
    "\n",
    "rep_diff_beer_exp.run_experiment(\n",
    "    os.path.join(out_dir, str(bio_repeat * tech_repeat)),\n",
    "    min_rt=min_rt,\n",
    "    max_rt=max_rt,\n",
    "    ionisation_mode=ionisation_mode,\n",
    "    scan_duration_dict=scan_duration_dict,\n",
    "    overwrite_keyfile=False,\n",
    "    point_noise_threshold=point_noise_threshold,\n",
    "    chem_noise_threshold=experiment_params[\"topN_params\"][\"min_ms1_intensity\"] * 0.5, #filter low intensity signal for memory\n",
    "    num_workers=num_workers\n",
    ")"
   ]
  },
  {
   "cell_type": "code",
   "execution_count": 34,
   "id": "8a3de8b9",
   "metadata": {},
   "outputs": [
    {
     "name": "stdout",
     "output_type": "stream",
     "text": [
      "UNWEIGHTED_MATCHING\n",
      "matching_size: 14471\n",
      "chem_count: 17741\n",
      "scan_count: 78720\n",
      "edge_count: 5948549\n",
      "chems_above_threshold: 15021\n",
      "start_scan: 2024-09-23 00:49:07.044675\n",
      "end_scan: 2024-09-23 01:58:19.878182\n",
      "start_chem: 2024-09-23 01:58:26.781962\n",
      "end_chem: 2024-09-23 01:58:27.330007\n",
      "start_matching: 2024-09-23 01:58:27.362677\n",
      "end_matching: 2024-09-23 01:59:12.956208\n",
      "start_assign: 2024-09-23 01:59:12.956208\n",
      "end_assign: 2024-09-23 01:59:12.986734\n",
      "\n",
      "TWO_STEP_MATCHING\n",
      "matching_size: 14471\n",
      "chem_count: 17741\n",
      "scan_count: 78720\n",
      "edge_count: 5948549\n",
      "chems_above_threshold: 15021\n",
      "start_scan: 2024-09-23 01:59:45.810850\n",
      "end_scan: 2024-09-23 03:08:35.273684\n",
      "start_chem: 2024-09-23 03:08:42.388924\n",
      "end_chem: 2024-09-23 03:08:42.928177\n",
      "start_matching: 2024-09-23 03:08:42.968839\n",
      "end_matching: 2024-09-23 03:11:10.446926\n",
      "start_assign: 2024-09-23 03:11:10.446926\n",
      "end_assign: 2024-09-23 03:11:10.518228\n",
      "\n",
      "TWO_STEP_MATCHING_WITH_RECURSIVE_ASSIGNMENT\n",
      "matching_size: 14471\n",
      "chem_count: 17741\n",
      "scan_count: 78720\n",
      "edge_count: 5948549\n",
      "chems_above_threshold: 15021\n",
      "start_scan: 2024-09-23 01:59:45.810850\n",
      "end_scan: 2024-09-23 03:08:35.273684\n",
      "start_chem: 2024-09-23 03:08:42.388924\n",
      "end_chem: 2024-09-23 03:08:42.928177\n",
      "start_matching: 2024-09-23 03:08:42.968839\n",
      "end_matching: 2024-09-23 03:11:10.446926\n",
      "start_assign: 2024-09-23 03:13:15.989535\n",
      "end_assign: 2024-09-23 03:25:03.556852\n",
      "\n",
      "TWO_STEP_MATCHING_WITH_NEAREST_ASSIGNMENT\n",
      "matching_size: 14471\n",
      "chem_count: 17741\n",
      "scan_count: 78720\n",
      "edge_count: 5948549\n",
      "chems_above_threshold: 15021\n",
      "start_scan: 2024-09-23 01:59:45.810850\n",
      "end_scan: 2024-09-23 03:08:35.273684\n",
      "start_chem: 2024-09-23 03:08:42.388924\n",
      "end_chem: 2024-09-23 03:08:42.928177\n",
      "start_matching: 2024-09-23 03:08:42.968839\n",
      "end_matching: 2024-09-23 03:11:10.446926\n",
      "start_assign: 2024-09-23 03:26:39.578754\n",
      "end_assign: 2024-09-23 03:26:39.627578\n",
      "\n"
     ]
    }
   ],
   "source": [
    "for case_name in matching_modes.keys():\n",
    "    i = rep_diff_beer_exp.case_names.index(case_name)\n",
    "    case = rep_diff_beer_exp.cases[i]\n",
    "    \n",
    "    print(case_name.upper())\n",
    "    print(case.log)\n",
    "    print()"
   ]
  },
  {
   "cell_type": "code",
   "execution_count": 35,
   "id": "23083b9a-33df-4f2f-9857-3da9676f4a51",
   "metadata": {},
   "outputs": [
    {
     "name": "stdout",
     "output_type": "stream",
     "text": [
      "Creating Chemicals...\n",
      "\n",
      "Running Experiment of 10 cases...\n",
      "Creating Chemicals...\n",
      "\n",
      "Running Experiment of 10 cases...\n",
      "Creating Chemicals...\n",
      "\n",
      "Running Experiment of 10 cases...\n",
      "Creating Chemicals...\n",
      "\n",
      "Running Experiment of 10 cases...\n",
      "Creating Chemicals...\n",
      "\n",
      "Running Experiment of 10 cases...\n",
      "Creating Chemicals...\n",
      "\n",
      "Running Experiment of 10 cases...\n",
      "Creating Chemicals...\n",
      "\n",
      "Running Experiment of 10 cases...\n",
      "Creating Chemicals...\n",
      "\n",
      "Running Experiment of 10 cases...\n",
      "Creating Chemicals...\n",
      "\n",
      "Running Experiment of 10 cases...\n",
      "Creating Chemicals...\n",
      "\n",
      "Running Experiment of 10 cases...\n",
      "Creating Chemicals...\n",
      "\n",
      "Running Experiment of 10 cases...\n"
     ]
    }
   ],
   "source": [
    "#run matching exhaustively up to the right number of iterations\n",
    "for i in range(1, repeat):\n",
    "    iter_dir = os.path.join(out_dir, str(i))\n",
    "    iter_times = times_list[:i]\n",
    "    \n",
    "    rep_diff_beer_exp = Experiment()\n",
    "    rep_diff_beer_exp.add_cases(\n",
    "        get_matching_cases(fullscans[:i], iter_times, aligned_file, edge_limit=None, pickle_env=False)\n",
    "    )\n",
    "\n",
    "    rep_diff_beer_exp.run_experiment(\n",
    "        iter_dir,\n",
    "        min_rt=min_rt,\n",
    "        max_rt=max_rt,\n",
    "        ionisation_mode=ionisation_mode,\n",
    "        scan_duration_dict=scan_duration_dict,\n",
    "        overwrite_keyfile=False,\n",
    "        point_noise_threshold=point_noise_threshold,\n",
    "        chem_noise_threshold=matching_params[\"intensity_threshold\"] * 0.5, #filter low intensity signal for memory\n",
    "        num_workers=num_workers\n",
    "    )"
   ]
  },
  {
   "cell_type": "markdown",
   "id": "79071530-fbfc-4bd5-8a9b-b7a8e6eb762a",
   "metadata": {},
   "source": [
    "# 6. Repeating Different Beers (Different Fullscans, Different Plan)"
   ]
  },
  {
   "cell_type": "code",
   "execution_count": 36,
   "id": "2ccad75f-ac37-458e-a220-a53a707ddd75",
   "metadata": {},
   "outputs": [
    {
     "name": "stdout",
     "output_type": "stream",
     "text": [
      "16916 aligned boxes contained in file\n",
      "\n"
     ]
    }
   ],
   "source": [
    "bio_repeat = 4\n",
    "tech_repeat = 3\n",
    "repeat = bio_repeat * tech_repeat\n",
    "\n",
    "out_dir = \"repeated_different_iterswapbeer\"\n",
    "fullscans = rep_diff_beer_fullscans[repeat:2*repeat]\n",
    "fullscans2 = rep_diff_beer_fullscans[:repeat] # use the ones that happened _first_ for the plan\n",
    "aligned_file = f\"stefanbeersID{id_offset+1}-{id_offset+repeat}\" + template_suffix\n",
    "edge_limit = None\n",
    "\n",
    "aligned_file = pp_params.pick_aligned_peaks(\n",
    "    fullscans,\n",
    "    out_dir,\n",
    "    aligned_file,\n",
    "    force=False\n",
    ")\n",
    "print()\n",
    "\n",
    "times_list = [\n",
    "    list(MatchingScan.topN_times(N, max_rt, scan_duration_dict))\n",
    "    for N in [20] * (bio_repeat * tech_repeat)\n",
    "]\n",
    "\n",
    "repeated_different_cases = cases + [(\"dsda\", \"dsda\", rep_diff_dsda_params)]"
   ]
  },
  {
   "cell_type": "code",
   "execution_count": 37,
   "id": "364088c3-1753-4332-932c-28b874d9bfb4",
   "metadata": {},
   "outputs": [
    {
     "name": "stdout",
     "output_type": "stream",
     "text": [
      "Creating Chemicals...\n",
      "\n",
      "Running Experiment of 10 cases...\n",
      "Creating Chemicals...\n",
      "\n",
      "Running Experiment of 10 cases...\n",
      "Creating Chemicals...\n",
      "\n",
      "Running Experiment of 10 cases...\n",
      "Creating Chemicals...\n",
      "\n",
      "Running Experiment of 10 cases...\n",
      "Creating Chemicals...\n",
      "\n",
      "Running Experiment of 10 cases...\n",
      "Creating Chemicals...\n",
      "\n",
      "Running Experiment of 10 cases...\n",
      "Creating Chemicals...\n",
      "\n",
      "Running Experiment of 10 cases...\n",
      "Creating Chemicals...\n",
      "\n",
      "Running Experiment of 10 cases...\n",
      "Creating Chemicals...\n",
      "\n",
      "Running Experiment of 10 cases...\n",
      "Creating Chemicals...\n",
      "\n",
      "Running Experiment of 10 cases...\n",
      "Creating Chemicals...\n",
      "\n",
      "Running Experiment of 10 cases...\n",
      "Creating Chemicals...\n",
      "\n",
      "Running Experiment of 10 cases...\n"
     ]
    }
   ],
   "source": [
    "for i in range(1, repeat+1):\n",
    "    iter_dir = os.path.join(out_dir, str(i))\n",
    "    iter_times = times_list[:i]\n",
    "    \n",
    "    rep_diff_beer_exp = Experiment()\n",
    "\n",
    "    matching_cases = get_matching_cases(fullscans2[:i], iter_times, aligned_file, edge_limit=None, pickle_env=False)\n",
    "    for case in matching_cases: case.fullscan_paths = fullscans[:i]\n",
    "    \n",
    "    rep_diff_beer_exp.add_cases(matching_cases)\n",
    "\n",
    "    rep_diff_beer_exp.run_experiment(\n",
    "        iter_dir,\n",
    "        min_rt=min_rt,\n",
    "        max_rt=max_rt,\n",
    "        ionisation_mode=ionisation_mode,\n",
    "        scan_duration_dict=scan_duration_dict,\n",
    "        overwrite_keyfile=False,\n",
    "        point_noise_threshold=point_noise_threshold,\n",
    "        chem_noise_threshold=matching_params[\"intensity_threshold\"] * 0.5, #filter low intensity signal for memory\n",
    "        num_workers=num_workers\n",
    "    )"
   ]
  },
  {
   "cell_type": "code",
   "execution_count": null,
   "id": "634d57fe-e527-4d81-91a3-e8695597516f",
   "metadata": {},
   "outputs": [],
   "source": []
  }
 ],
 "metadata": {
  "kernelspec": {
   "display_name": "Python 3 (ipykernel)",
   "language": "python",
   "name": "python3"
  },
  "language_info": {
   "codemirror_mode": {
    "name": "ipython",
    "version": 3
   },
   "file_extension": ".py",
   "mimetype": "text/x-python",
   "name": "python",
   "nbconvert_exporter": "python",
   "pygments_lexer": "ipython3",
   "version": "3.10.13"
  }
 },
 "nbformat": 4,
 "nbformat_minor": 5
}
